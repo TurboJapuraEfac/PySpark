{
 "cells": [
  {
   "cell_type": "code",
   "execution_count": 1,
   "id": "4f1fa47c",
   "metadata": {
    "_cell_guid": "b1076dfc-b9ad-4769-8c92-a6c4dae69d19",
    "_uuid": "8f2839f25d086af736a60e9eeb907d3b93b6e0e5",
    "execution": {
     "iopub.execute_input": "2022-07-20T17:03:56.120778Z",
     "iopub.status.busy": "2022-07-20T17:03:56.119765Z",
     "iopub.status.idle": "2022-07-20T17:03:56.141244Z",
     "shell.execute_reply": "2022-07-20T17:03:56.140121Z"
    },
    "papermill": {
     "duration": 0.030782,
     "end_time": "2022-07-20T17:03:56.143835",
     "exception": false,
     "start_time": "2022-07-20T17:03:56.113053",
     "status": "completed"
    },
    "tags": []
   },
   "outputs": [
    {
     "name": "stdout",
     "output_type": "stream",
     "text": [
      "/kaggle/input/pyspark-test-data/test1.csv\n",
      "/kaggle/input/pyspark-test-data/test2.csv\n",
      "/kaggle/input/pyspark-test-data/tips.csv\n",
      "/kaggle/input/pyspark-test-data/test3.csv\n"
     ]
    }
   ],
   "source": [
    "# This Python 3 environment comes with many helpful analytics libraries installed\n",
    "# It is defined by the kaggle/python Docker image: https://github.com/kaggle/docker-python\n",
    "# For example, here's several helpful packages to load\n",
    "\n",
    "import numpy as np # linear algebra\n",
    "import pandas as pd # data processing, CSV file I/O (e.g. pd.read_csv)\n",
    "\n",
    "# Input data files are available in the read-only \"../input/\" directory\n",
    "# For example, running this (by clicking run or pressing Shift+Enter) will list all files under the input directory\n",
    "\n",
    "import os\n",
    "for dirname, _, filenames in os.walk('/kaggle/input'):\n",
    "    for filename in filenames:\n",
    "        print(os.path.join(dirname, filename))\n",
    "\n",
    "# You can write up to 20GB to the current directory (/kaggle/working/) that gets preserved as output when you create a version using \"Save & Run All\" \n",
    "# You can also write temporary files to /kaggle/temp/, but they won't be saved outside of the current session"
   ]
  },
  {
   "cell_type": "code",
   "execution_count": 2,
   "id": "c9abe4ae",
   "metadata": {
    "execution": {
     "iopub.execute_input": "2022-07-20T17:03:56.153871Z",
     "iopub.status.busy": "2022-07-20T17:03:56.153137Z",
     "iopub.status.idle": "2022-07-20T17:04:49.199767Z",
     "shell.execute_reply": "2022-07-20T17:04:49.198494Z"
    },
    "papermill": {
     "duration": 53.054569,
     "end_time": "2022-07-20T17:04:49.202666",
     "exception": false,
     "start_time": "2022-07-20T17:03:56.148097",
     "status": "completed"
    },
    "tags": []
   },
   "outputs": [
    {
     "name": "stdout",
     "output_type": "stream",
     "text": [
      "Collecting pyspark\r\n",
      "  Downloading pyspark-3.3.0.tar.gz (281.3 MB)\r\n",
      "\u001b[2K     \u001b[90m━━━━━━━━━━━━━━━━━━━━━━━━━━━━━━━━━━━━━━━\u001b[0m \u001b[32m281.3/281.3 MB\u001b[0m \u001b[31m3.9 MB/s\u001b[0m eta \u001b[36m0:00:00\u001b[0m\r\n",
      "\u001b[?25h  Preparing metadata (setup.py) ... \u001b[?25l-\b \b\\\b \bdone\r\n",
      "\u001b[?25hRequirement already satisfied: py4j==0.10.9.5 in /opt/conda/lib/python3.7/site-packages (from pyspark) (0.10.9.5)\r\n",
      "Building wheels for collected packages: pyspark\r\n",
      "  Building wheel for pyspark (setup.py) ... \u001b[?25l-\b \b\\\b \b|\b \b/\b \b-\b \b\\\b \b|\b \b/\b \b-\b \b\\\b \b|\b \b/\b \b-\b \b\\\b \b|\b \b/\b \b-\b \b\\\b \b|\b \b/\b \b-\b \b\\\b \b|\b \b/\b \b-\b \b\\\b \b|\b \b/\b \b-\b \b\\\b \b|\b \b/\b \b-\b \b\\\b \b|\b \b/\b \b-\b \b\\\b \b|\b \b/\b \b-\b \b\\\b \b|\b \b/\b \b-\b \b\\\b \b|\b \b/\b \b-\b \b\\\b \b|\b \b/\b \b-\b \b\\\b \b|\b \b/\b \b-\b \b\\\b \b|\b \bdone\r\n",
      "\u001b[?25h  Created wheel for pyspark: filename=pyspark-3.3.0-py2.py3-none-any.whl size=281764026 sha256=1ce5e1c9fe7c826e1ffcb94c1c1c2de832cfb3542f480fb320ab8905b12ad0f5\r\n",
      "  Stored in directory: /root/.cache/pip/wheels/7a/8e/1b/f73a52650d2e5f337708d9f6a1750d451a7349a867f928b885\r\n",
      "Successfully built pyspark\r\n",
      "Installing collected packages: pyspark\r\n",
      "Successfully installed pyspark-3.3.0\r\n",
      "\u001b[33mWARNING: Running pip as the 'root' user can result in broken permissions and conflicting behaviour with the system package manager. It is recommended to use a virtual environment instead: https://pip.pypa.io/warnings/venv\u001b[0m\u001b[33m\r\n",
      "\u001b[0m"
     ]
    }
   ],
   "source": [
    "!pip install pyspark\n",
    "import pyspark"
   ]
  },
  {
   "cell_type": "code",
   "execution_count": 3,
   "id": "c3282636",
   "metadata": {
    "execution": {
     "iopub.execute_input": "2022-07-20T17:04:49.253871Z",
     "iopub.status.busy": "2022-07-20T17:04:49.253451Z",
     "iopub.status.idle": "2022-07-20T17:04:54.756437Z",
     "shell.execute_reply": "2022-07-20T17:04:54.755023Z"
    },
    "papermill": {
     "duration": 5.531622,
     "end_time": "2022-07-20T17:04:54.759073",
     "exception": false,
     "start_time": "2022-07-20T17:04:49.227451",
     "status": "completed"
    },
    "tags": []
   },
   "outputs": [
    {
     "name": "stderr",
     "output_type": "stream",
     "text": [
      "Setting default log level to \"WARN\".\n",
      "To adjust logging level use sc.setLogLevel(newLevel). For SparkR, use setLogLevel(newLevel).\n"
     ]
    },
    {
     "name": "stdout",
     "output_type": "stream",
     "text": [
      "22/07/20 17:04:52 WARN NativeCodeLoader: Unable to load native-hadoop library for your platform... using builtin-java classes where applicable\n"
     ]
    }
   ],
   "source": [
    "from pyspark.sql import SparkSession\n",
    "spark=SparkSession.builder.appName('Practise').getOrCreate()"
   ]
  },
  {
   "cell_type": "code",
   "execution_count": 4,
   "id": "ed7ef41e",
   "metadata": {
    "execution": {
     "iopub.execute_input": "2022-07-20T17:04:54.810728Z",
     "iopub.status.busy": "2022-07-20T17:04:54.810002Z",
     "iopub.status.idle": "2022-07-20T17:05:01.500863Z",
     "shell.execute_reply": "2022-07-20T17:05:01.498454Z"
    },
    "papermill": {
     "duration": 6.721443,
     "end_time": "2022-07-20T17:05:01.505228",
     "exception": false,
     "start_time": "2022-07-20T17:04:54.783785",
     "status": "completed"
    },
    "tags": []
   },
   "outputs": [
    {
     "name": "stderr",
     "output_type": "stream",
     "text": [
      "                                                                                \r"
     ]
    },
    {
     "name": "stdout",
     "output_type": "stream",
     "text": [
      "+---------+---+----------+------+\n",
      "|     Name|age|Experience|Salary|\n",
      "+---------+---+----------+------+\n",
      "|    Krish| 31|        10| 30000|\n",
      "|Sudhanshu| 30|         8| 25000|\n",
      "|    Sunny| 29|         4| 20000|\n",
      "|     Paul| 24|         3| 20000|\n",
      "|   Harsha| 21|         1| 15000|\n",
      "|  Shubham| 23|         2| 18000|\n",
      "+---------+---+----------+------+\n",
      "\n"
     ]
    }
   ],
   "source": [
    "df_pyspark=spark.read.csv('../input/pyspark-test-data/test1.csv',header=True,inferSchema=True)\n",
    "df_pyspark.show()"
   ]
  },
  {
   "cell_type": "markdown",
   "id": "ce86fad6",
   "metadata": {
    "papermill": {
     "duration": 0.024816,
     "end_time": "2022-07-20T17:05:01.571023",
     "exception": false,
     "start_time": "2022-07-20T17:05:01.546207",
     "status": "completed"
    },
    "tags": []
   },
   "source": [
    "**Filter Operations**"
   ]
  },
  {
   "cell_type": "code",
   "execution_count": 5,
   "id": "3caee803",
   "metadata": {
    "execution": {
     "iopub.execute_input": "2022-07-20T17:05:01.645216Z",
     "iopub.status.busy": "2022-07-20T17:05:01.643449Z",
     "iopub.status.idle": "2022-07-20T17:05:02.195607Z",
     "shell.execute_reply": "2022-07-20T17:05:02.194247Z"
    },
    "papermill": {
     "duration": 0.591098,
     "end_time": "2022-07-20T17:05:02.198901",
     "exception": false,
     "start_time": "2022-07-20T17:05:01.607803",
     "status": "completed"
    },
    "tags": []
   },
   "outputs": [
    {
     "name": "stdout",
     "output_type": "stream",
     "text": [
      "+-------+---+----------+------+\n",
      "|   Name|age|Experience|Salary|\n",
      "+-------+---+----------+------+\n",
      "|  Sunny| 29|         4| 20000|\n",
      "|   Paul| 24|         3| 20000|\n",
      "| Harsha| 21|         1| 15000|\n",
      "|Shubham| 23|         2| 18000|\n",
      "+-------+---+----------+------+\n",
      "\n"
     ]
    }
   ],
   "source": [
    "### Salary of the people less than or equal to 20000 ( Way 1)\n",
    "df_pyspark1 =  df_pyspark.filter(\"Salary<=20000\")\n",
    "df_pyspark1.show()"
   ]
  },
  {
   "cell_type": "code",
   "execution_count": 6,
   "id": "319fe1ab",
   "metadata": {
    "execution": {
     "iopub.execute_input": "2022-07-20T17:05:02.292440Z",
     "iopub.status.busy": "2022-07-20T17:05:02.292036Z",
     "iopub.status.idle": "2022-07-20T17:05:02.584979Z",
     "shell.execute_reply": "2022-07-20T17:05:02.583807Z"
    },
    "papermill": {
     "duration": 0.344352,
     "end_time": "2022-07-20T17:05:02.589251",
     "exception": false,
     "start_time": "2022-07-20T17:05:02.244899",
     "status": "completed"
    },
    "tags": []
   },
   "outputs": [
    {
     "name": "stdout",
     "output_type": "stream",
     "text": [
      "+-------+---+\n",
      "|   Name|age|\n",
      "+-------+---+\n",
      "|  Sunny| 29|\n",
      "|   Paul| 24|\n",
      "| Harsha| 21|\n",
      "|Shubham| 23|\n",
      "+-------+---+\n",
      "\n"
     ]
    }
   ],
   "source": [
    "### Salary of the people less than or equal to 20000 with [only name and age]\n",
    "df_pyspark2 =  df_pyspark.filter(\"Salary<=20000\").select(['Name','age'])\n",
    "df_pyspark2.show()"
   ]
  },
  {
   "cell_type": "code",
   "execution_count": 7,
   "id": "66fb1a18",
   "metadata": {
    "execution": {
     "iopub.execute_input": "2022-07-20T17:05:02.667876Z",
     "iopub.status.busy": "2022-07-20T17:05:02.667378Z",
     "iopub.status.idle": "2022-07-20T17:05:02.925173Z",
     "shell.execute_reply": "2022-07-20T17:05:02.924056Z"
    },
    "papermill": {
     "duration": 0.29825,
     "end_time": "2022-07-20T17:05:02.929145",
     "exception": false,
     "start_time": "2022-07-20T17:05:02.630895",
     "status": "completed"
    },
    "tags": []
   },
   "outputs": [
    {
     "name": "stdout",
     "output_type": "stream",
     "text": [
      "+-------+---+----------+------+\n",
      "|   Name|age|Experience|Salary|\n",
      "+-------+---+----------+------+\n",
      "|  Sunny| 29|         4| 20000|\n",
      "|   Paul| 24|         3| 20000|\n",
      "| Harsha| 21|         1| 15000|\n",
      "|Shubham| 23|         2| 18000|\n",
      "+-------+---+----------+------+\n",
      "\n"
     ]
    }
   ],
   "source": [
    "### Salary of the people less than or equal to 20000 ( Way 2)\n",
    "df_pyspark1 = df_pyspark.filter(df_pyspark['Salary']<=20000)\n",
    "df_pyspark1.show()"
   ]
  },
  {
   "cell_type": "code",
   "execution_count": 8,
   "id": "8977e378",
   "metadata": {
    "execution": {
     "iopub.execute_input": "2022-07-20T17:05:02.984503Z",
     "iopub.status.busy": "2022-07-20T17:05:02.984012Z",
     "iopub.status.idle": "2022-07-20T17:05:03.244868Z",
     "shell.execute_reply": "2022-07-20T17:05:03.243022Z"
    },
    "papermill": {
     "duration": 0.291749,
     "end_time": "2022-07-20T17:05:03.248302",
     "exception": false,
     "start_time": "2022-07-20T17:05:02.956553",
     "status": "completed"
    },
    "tags": []
   },
   "outputs": [
    {
     "name": "stdout",
     "output_type": "stream",
     "text": [
      "+-------+---+----------+------+\n",
      "|   Name|age|Experience|Salary|\n",
      "+-------+---+----------+------+\n",
      "|  Sunny| 29|         4| 20000|\n",
      "|   Paul| 24|         3| 20000|\n",
      "| Harsha| 21|         1| 15000|\n",
      "|Shubham| 23|         2| 18000|\n",
      "+-------+---+----------+------+\n",
      "\n"
     ]
    }
   ],
   "source": [
    "### Multiple conditions\n",
    "df_pyspark3 =  df_pyspark.filter((df_pyspark['Salary']<=20000) & (df_pyspark['Salary']>=15000))\n",
    "df_pyspark3.show()"
   ]
  },
  {
   "cell_type": "code",
   "execution_count": 9,
   "id": "7b5ed7cf",
   "metadata": {
    "execution": {
     "iopub.execute_input": "2022-07-20T17:05:03.329405Z",
     "iopub.status.busy": "2022-07-20T17:05:03.328872Z",
     "iopub.status.idle": "2022-07-20T17:05:03.598842Z",
     "shell.execute_reply": "2022-07-20T17:05:03.597701Z"
    },
    "papermill": {
     "duration": 0.315979,
     "end_time": "2022-07-20T17:05:03.603702",
     "exception": false,
     "start_time": "2022-07-20T17:05:03.287723",
     "status": "completed"
    },
    "tags": []
   },
   "outputs": [
    {
     "name": "stdout",
     "output_type": "stream",
     "text": [
      "+---------+---+----------+------+\n",
      "|     Name|age|Experience|Salary|\n",
      "+---------+---+----------+------+\n",
      "|    Krish| 31|        10| 30000|\n",
      "|Sudhanshu| 30|         8| 25000|\n",
      "+---------+---+----------+------+\n",
      "\n"
     ]
    }
   ],
   "source": [
    "### Negation \n",
    "df_pyspark4 =  df_pyspark.filter(~(df_pyspark['Salary']<=20000))\n",
    "df_pyspark4.show()"
   ]
  }
 ],
 "metadata": {
  "kernelspec": {
   "display_name": "Python 3",
   "language": "python",
   "name": "python3"
  },
  "language_info": {
   "codemirror_mode": {
    "name": "ipython",
    "version": 3
   },
   "file_extension": ".py",
   "mimetype": "text/x-python",
   "name": "python",
   "nbconvert_exporter": "python",
   "pygments_lexer": "ipython3",
   "version": "3.7.12"
  },
  "papermill": {
   "default_parameters": {},
   "duration": 80.385218,
   "end_time": "2022-07-20T17:05:06.268607",
   "environment_variables": {},
   "exception": null,
   "input_path": "__notebook__.ipynb",
   "output_path": "__notebook__.ipynb",
   "parameters": {},
   "start_time": "2022-07-20T17:03:45.883389",
   "version": "2.3.4"
  }
 },
 "nbformat": 4,
 "nbformat_minor": 5
}
