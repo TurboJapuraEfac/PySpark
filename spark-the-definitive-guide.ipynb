{
 "cells": [
  {
   "cell_type": "code",
   "execution_count": 1,
   "id": "481a9dae",
   "metadata": {
    "_cell_guid": "b1076dfc-b9ad-4769-8c92-a6c4dae69d19",
    "_uuid": "8f2839f25d086af736a60e9eeb907d3b93b6e0e5",
    "execution": {
     "iopub.execute_input": "2022-09-02T12:26:11.188662Z",
     "iopub.status.busy": "2022-09-02T12:26:11.187870Z",
     "iopub.status.idle": "2022-09-02T12:26:11.267743Z",
     "shell.execute_reply": "2022-09-02T12:26:11.266439Z"
    },
    "papermill": {
     "duration": 0.103344,
     "end_time": "2022-09-02T12:26:11.275754",
     "exception": false,
     "start_time": "2022-09-02T12:26:11.172410",
     "status": "completed"
    },
    "tags": []
   },
   "outputs": [
    {
     "name": "stdout",
     "output_type": "stream",
     "text": [
      "/kaggle/input/apchesparkbook/2015-summary.csv\n",
      "/kaggle/input/apchesparkbook/by-day/by-day/2011-12-04.csv\n",
      "/kaggle/input/apchesparkbook/by-day/by-day/2011-11-28.csv\n",
      "/kaggle/input/apchesparkbook/by-day/by-day/2011-10-21.csv\n",
      "/kaggle/input/apchesparkbook/by-day/by-day/2011-11-29.csv\n",
      "/kaggle/input/apchesparkbook/by-day/by-day/2011-09-01.csv\n",
      "/kaggle/input/apchesparkbook/by-day/by-day/2011-10-19.csv\n",
      "/kaggle/input/apchesparkbook/by-day/by-day/2011-09-25.csv\n",
      "/kaggle/input/apchesparkbook/by-day/by-day/2011-10-24.csv\n",
      "/kaggle/input/apchesparkbook/by-day/by-day/2011-10-07.csv\n",
      "/kaggle/input/apchesparkbook/by-day/by-day/2011-05-05.csv\n",
      "/kaggle/input/apchesparkbook/by-day/by-day/2011-10-02.csv\n",
      "/kaggle/input/apchesparkbook/by-day/by-day/2011-03-25.csv\n",
      "/kaggle/input/apchesparkbook/by-day/by-day/2011-02-10.csv\n",
      "/kaggle/input/apchesparkbook/by-day/by-day/2010-12-05.csv\n",
      "/kaggle/input/apchesparkbook/by-day/by-day/2011-04-19.csv\n",
      "/kaggle/input/apchesparkbook/by-day/by-day/2011-03-16.csv\n",
      "/kaggle/input/apchesparkbook/by-day/by-day/2011-03-08.csv\n",
      "/kaggle/input/apchesparkbook/by-day/by-day/2011-06-12.csv\n",
      "/kaggle/input/apchesparkbook/by-day/by-day/2011-09-29.csv\n",
      "/kaggle/input/apchesparkbook/by-day/by-day/2011-06-08.csv\n",
      "/kaggle/input/apchesparkbook/by-day/by-day/2011-04-27.csv\n",
      "/kaggle/input/apchesparkbook/by-day/by-day/2011-09-06.csv\n",
      "/kaggle/input/apchesparkbook/by-day/by-day/2011-02-07.csv\n",
      "/kaggle/input/apchesparkbook/by-day/by-day/2011-03-30.csv\n",
      "/kaggle/input/apchesparkbook/by-day/by-day/2011-03-02.csv\n",
      "/kaggle/input/apchesparkbook/by-day/by-day/2011-07-01.csv\n",
      "/kaggle/input/apchesparkbook/by-day/by-day/2011-09-18.csv\n",
      "/kaggle/input/apchesparkbook/by-day/by-day/2011-07-15.csv\n",
      "/kaggle/input/apchesparkbook/by-day/by-day/2011-07-24.csv\n",
      "/kaggle/input/apchesparkbook/by-day/by-day/2011-06-13.csv\n",
      "/kaggle/input/apchesparkbook/by-day/by-day/2011-11-14.csv\n",
      "/kaggle/input/apchesparkbook/by-day/by-day/2011-10-28.csv\n",
      "/kaggle/input/apchesparkbook/by-day/by-day/2011-08-16.csv\n",
      "/kaggle/input/apchesparkbook/by-day/by-day/2011-07-27.csv\n",
      "/kaggle/input/apchesparkbook/by-day/by-day/2010-12-23.csv\n",
      "/kaggle/input/apchesparkbook/by-day/by-day/2011-10-14.csv\n",
      "/kaggle/input/apchesparkbook/by-day/by-day/2010-12-10.csv\n",
      "/kaggle/input/apchesparkbook/by-day/by-day/2011-01-31.csv\n",
      "/kaggle/input/apchesparkbook/by-day/by-day/2011-09-11.csv\n",
      "/kaggle/input/apchesparkbook/by-day/by-day/2011-04-04.csv\n",
      "/kaggle/input/apchesparkbook/by-day/by-day/2011-07-04.csv\n",
      "/kaggle/input/apchesparkbook/by-day/by-day/2011-06-28.csv\n",
      "/kaggle/input/apchesparkbook/by-day/by-day/2011-04-01.csv\n",
      "/kaggle/input/apchesparkbook/by-day/by-day/2011-06-30.csv\n",
      "/kaggle/input/apchesparkbook/by-day/by-day/2011-08-03.csv\n",
      "/kaggle/input/apchesparkbook/by-day/by-day/2011-02-18.csv\n",
      "/kaggle/input/apchesparkbook/by-day/by-day/2011-11-15.csv\n",
      "/kaggle/input/apchesparkbook/by-day/by-day/2011-11-08.csv\n",
      "/kaggle/input/apchesparkbook/by-day/by-day/2011-12-01.csv\n",
      "/kaggle/input/apchesparkbook/by-day/by-day/2011-12-07.csv\n",
      "/kaggle/input/apchesparkbook/by-day/by-day/2011-11-30.csv\n",
      "/kaggle/input/apchesparkbook/by-day/by-day/2011-02-02.csv\n",
      "/kaggle/input/apchesparkbook/by-day/by-day/2011-01-09.csv\n",
      "/kaggle/input/apchesparkbook/by-day/by-day/2011-08-01.csv\n",
      "/kaggle/input/apchesparkbook/by-day/by-day/2011-07-17.csv\n",
      "/kaggle/input/apchesparkbook/by-day/by-day/2010-12-09.csv\n",
      "/kaggle/input/apchesparkbook/by-day/by-day/2010-12-21.csv\n",
      "/kaggle/input/apchesparkbook/by-day/by-day/2011-11-24.csv\n",
      "/kaggle/input/apchesparkbook/by-day/by-day/2011-10-11.csv\n",
      "/kaggle/input/apchesparkbook/by-day/by-day/2011-08-11.csv\n",
      "/kaggle/input/apchesparkbook/by-day/by-day/2011-12-09.csv\n",
      "/kaggle/input/apchesparkbook/by-day/by-day/2011-03-21.csv\n",
      "/kaggle/input/apchesparkbook/by-day/by-day/2011-02-08.csv\n",
      "/kaggle/input/apchesparkbook/by-day/by-day/2011-02-23.csv\n",
      "/kaggle/input/apchesparkbook/by-day/by-day/2011-06-26.csv\n",
      "/kaggle/input/apchesparkbook/by-day/by-day/2011-09-13.csv\n",
      "/kaggle/input/apchesparkbook/by-day/by-day/2011-07-12.csv\n",
      "/kaggle/input/apchesparkbook/by-day/by-day/2011-11-23.csv\n",
      "/kaggle/input/apchesparkbook/by-day/by-day/2011-09-22.csv\n",
      "/kaggle/input/apchesparkbook/by-day/by-day/2011-03-11.csv\n",
      "/kaggle/input/apchesparkbook/by-day/by-day/2011-10-04.csv\n",
      "/kaggle/input/apchesparkbook/by-day/by-day/2011-09-20.csv\n",
      "/kaggle/input/apchesparkbook/by-day/by-day/2011-08-30.csv\n",
      "/kaggle/input/apchesparkbook/by-day/by-day/2011-08-22.csv\n",
      "/kaggle/input/apchesparkbook/by-day/by-day/2011-03-28.csv\n",
      "/kaggle/input/apchesparkbook/by-day/by-day/2011-05-22.csv\n",
      "/kaggle/input/apchesparkbook/by-day/by-day/2011-11-25.csv\n",
      "/kaggle/input/apchesparkbook/by-day/by-day/2011-06-07.csv\n",
      "/kaggle/input/apchesparkbook/by-day/by-day/2011-01-06.csv\n",
      "/kaggle/input/apchesparkbook/by-day/by-day/2011-02-01.csv\n",
      "/kaggle/input/apchesparkbook/by-day/by-day/2011-03-04.csv\n",
      "/kaggle/input/apchesparkbook/by-day/by-day/2011-03-31.csv\n",
      "/kaggle/input/apchesparkbook/by-day/by-day/2011-08-28.csv\n",
      "/kaggle/input/apchesparkbook/by-day/by-day/2011-04-20.csv\n",
      "/kaggle/input/apchesparkbook/by-day/by-day/2011-07-18.csv\n",
      "/kaggle/input/apchesparkbook/by-day/by-day/2011-02-03.csv\n",
      "/kaggle/input/apchesparkbook/by-day/by-day/2010-12-01.csv\n",
      "/kaggle/input/apchesparkbook/by-day/by-day/2011-11-06.csv\n",
      "/kaggle/input/apchesparkbook/by-day/by-day/2011-04-11.csv\n",
      "/kaggle/input/apchesparkbook/by-day/by-day/2011-06-22.csv\n",
      "/kaggle/input/apchesparkbook/by-day/by-day/2011-05-01.csv\n",
      "/kaggle/input/apchesparkbook/by-day/by-day/2011-04-21.csv\n",
      "/kaggle/input/apchesparkbook/by-day/by-day/2011-11-09.csv\n",
      "/kaggle/input/apchesparkbook/by-day/by-day/2011-10-31.csv\n",
      "/kaggle/input/apchesparkbook/by-day/by-day/2011-03-01.csv\n",
      "/kaggle/input/apchesparkbook/by-day/by-day/2011-05-26.csv\n",
      "/kaggle/input/apchesparkbook/by-day/by-day/2011-07-29.csv\n",
      "/kaggle/input/apchesparkbook/by-day/by-day/2011-03-27.csv\n",
      "/kaggle/input/apchesparkbook/by-day/by-day/2011-10-10.csv\n",
      "/kaggle/input/apchesparkbook/by-day/by-day/2011-09-12.csv\n",
      "/kaggle/input/apchesparkbook/by-day/by-day/2011-07-03.csv\n",
      "/kaggle/input/apchesparkbook/by-day/by-day/2011-10-20.csv\n",
      "/kaggle/input/apchesparkbook/by-day/by-day/2011-04-14.csv\n",
      "/kaggle/input/apchesparkbook/by-day/by-day/2011-01-13.csv\n",
      "/kaggle/input/apchesparkbook/by-day/by-day/2011-01-16.csv\n",
      "/kaggle/input/apchesparkbook/by-day/by-day/2011-07-08.csv\n",
      "/kaggle/input/apchesparkbook/by-day/by-day/2011-02-14.csv\n",
      "/kaggle/input/apchesparkbook/by-day/by-day/2011-03-20.csv\n",
      "/kaggle/input/apchesparkbook/by-day/by-day/2011-05-20.csv\n",
      "/kaggle/input/apchesparkbook/by-day/by-day/2010-12-13.csv\n",
      "/kaggle/input/apchesparkbook/by-day/by-day/2011-10-05.csv\n",
      "/kaggle/input/apchesparkbook/by-day/by-day/2011-01-24.csv\n",
      "/kaggle/input/apchesparkbook/by-day/by-day/2011-04-07.csv\n",
      "/kaggle/input/apchesparkbook/by-day/by-day/2011-09-02.csv\n",
      "/kaggle/input/apchesparkbook/by-day/by-day/2011-01-25.csv\n",
      "/kaggle/input/apchesparkbook/by-day/by-day/2011-09-30.csv\n",
      "/kaggle/input/apchesparkbook/by-day/by-day/2011-05-09.csv\n",
      "/kaggle/input/apchesparkbook/by-day/by-day/2011-03-14.csv\n",
      "/kaggle/input/apchesparkbook/by-day/by-day/2011-08-26.csv\n",
      "/kaggle/input/apchesparkbook/by-day/by-day/2011-11-03.csv\n",
      "/kaggle/input/apchesparkbook/by-day/by-day/2011-01-27.csv\n",
      "/kaggle/input/apchesparkbook/by-day/by-day/2011-03-06.csv\n",
      "/kaggle/input/apchesparkbook/by-day/by-day/2011-06-01.csv\n",
      "/kaggle/input/apchesparkbook/by-day/by-day/2011-12-02.csv\n",
      "/kaggle/input/apchesparkbook/by-day/by-day/2011-07-22.csv\n",
      "/kaggle/input/apchesparkbook/by-day/by-day/2011-06-19.csv\n",
      "/kaggle/input/apchesparkbook/by-day/by-day/2011-09-27.csv\n",
      "/kaggle/input/apchesparkbook/by-day/by-day/2010-12-17.csv\n",
      "/kaggle/input/apchesparkbook/by-day/by-day/2011-04-26.csv\n",
      "/kaggle/input/apchesparkbook/by-day/by-day/2010-12-07.csv\n",
      "/kaggle/input/apchesparkbook/by-day/by-day/2011-11-07.csv\n",
      "/kaggle/input/apchesparkbook/by-day/by-day/2011-05-11.csv\n",
      "/kaggle/input/apchesparkbook/by-day/by-day/2011-10-30.csv\n",
      "/kaggle/input/apchesparkbook/by-day/by-day/2011-01-17.csv\n",
      "/kaggle/input/apchesparkbook/by-day/by-day/2011-10-13.csv\n",
      "/kaggle/input/apchesparkbook/by-day/by-day/2011-11-22.csv\n",
      "/kaggle/input/apchesparkbook/by-day/by-day/2011-09-15.csv\n",
      "/kaggle/input/apchesparkbook/by-day/by-day/2010-12-20.csv\n",
      "/kaggle/input/apchesparkbook/by-day/by-day/2011-09-16.csv\n",
      "/kaggle/input/apchesparkbook/by-day/by-day/2011-12-05.csv\n",
      "/kaggle/input/apchesparkbook/by-day/by-day/2011-01-04.csv\n",
      "/kaggle/input/apchesparkbook/by-day/by-day/2011-07-10.csv\n",
      "/kaggle/input/apchesparkbook/by-day/by-day/2011-05-18.csv\n",
      "/kaggle/input/apchesparkbook/by-day/by-day/2011-06-02.csv\n",
      "/kaggle/input/apchesparkbook/by-day/by-day/2011-07-07.csv\n",
      "/kaggle/input/apchesparkbook/by-day/by-day/2011-09-14.csv\n",
      "/kaggle/input/apchesparkbook/by-day/by-day/2011-08-17.csv\n",
      "/kaggle/input/apchesparkbook/by-day/by-day/2011-05-15.csv\n",
      "/kaggle/input/apchesparkbook/by-day/by-day/2011-01-26.csv\n",
      "/kaggle/input/apchesparkbook/by-day/by-day/2011-06-21.csv\n",
      "/kaggle/input/apchesparkbook/by-day/by-day/2011-06-15.csv\n",
      "/kaggle/input/apchesparkbook/by-day/by-day/2011-02-04.csv\n",
      "/kaggle/input/apchesparkbook/by-day/by-day/2011-01-05.csv\n",
      "/kaggle/input/apchesparkbook/by-day/by-day/2011-02-16.csv\n",
      "/kaggle/input/apchesparkbook/by-day/by-day/2011-02-17.csv\n",
      "/kaggle/input/apchesparkbook/by-day/by-day/2011-09-07.csv\n",
      "/kaggle/input/apchesparkbook/by-day/by-day/2011-08-18.csv\n",
      "/kaggle/input/apchesparkbook/by-day/by-day/2011-07-28.csv\n",
      "/kaggle/input/apchesparkbook/by-day/by-day/2011-11-04.csv\n",
      "/kaggle/input/apchesparkbook/by-day/by-day/2011-08-19.csv\n",
      "/kaggle/input/apchesparkbook/by-day/by-day/2011-07-13.csv\n",
      "/kaggle/input/apchesparkbook/by-day/by-day/2011-03-09.csv\n",
      "/kaggle/input/apchesparkbook/by-day/by-day/2011-07-25.csv\n",
      "/kaggle/input/apchesparkbook/by-day/by-day/2011-02-21.csv\n",
      "/kaggle/input/apchesparkbook/by-day/by-day/2011-02-28.csv\n",
      "/kaggle/input/apchesparkbook/by-day/by-day/2011-01-12.csv\n",
      "/kaggle/input/apchesparkbook/by-day/by-day/2011-09-26.csv\n",
      "/kaggle/input/apchesparkbook/by-day/by-day/2010-12-16.csv\n",
      "/kaggle/input/apchesparkbook/by-day/by-day/2011-10-17.csv\n",
      "/kaggle/input/apchesparkbook/by-day/by-day/2010-12-08.csv\n",
      "/kaggle/input/apchesparkbook/by-day/by-day/2011-02-06.csv\n",
      "/kaggle/input/apchesparkbook/by-day/by-day/2011-01-14.csv\n",
      "/kaggle/input/apchesparkbook/by-day/by-day/2011-01-11.csv\n",
      "/kaggle/input/apchesparkbook/by-day/by-day/2011-11-20.csv\n",
      "/kaggle/input/apchesparkbook/by-day/by-day/2011-08-24.csv\n",
      "/kaggle/input/apchesparkbook/by-day/by-day/2011-06-27.csv\n",
      "/kaggle/input/apchesparkbook/by-day/by-day/2011-10-16.csv\n",
      "/kaggle/input/apchesparkbook/by-day/by-day/2011-03-13.csv\n",
      "/kaggle/input/apchesparkbook/by-day/by-day/2011-04-28.csv\n",
      "/kaggle/input/apchesparkbook/by-day/by-day/2011-04-17.csv\n",
      "/kaggle/input/apchesparkbook/by-day/by-day/2011-05-03.csv\n",
      "/kaggle/input/apchesparkbook/by-day/by-day/2011-11-17.csv\n",
      "/kaggle/input/apchesparkbook/by-day/by-day/2011-09-28.csv\n",
      "/kaggle/input/apchesparkbook/by-day/by-day/2011-12-06.csv\n",
      "/kaggle/input/apchesparkbook/by-day/by-day/2011-09-04.csv\n",
      "/kaggle/input/apchesparkbook/by-day/by-day/2011-07-21.csv\n",
      "/kaggle/input/apchesparkbook/by-day/by-day/2011-03-15.csv\n",
      "/kaggle/input/apchesparkbook/by-day/by-day/2011-11-02.csv\n",
      "/kaggle/input/apchesparkbook/by-day/by-day/2011-06-29.csv\n",
      "/kaggle/input/apchesparkbook/by-day/by-day/2011-01-23.csv\n",
      "/kaggle/input/apchesparkbook/by-day/by-day/2011-05-08.csv\n",
      "/kaggle/input/apchesparkbook/by-day/by-day/2011-08-23.csv\n",
      "/kaggle/input/apchesparkbook/by-day/by-day/2010-12-02.csv\n",
      "/kaggle/input/apchesparkbook/by-day/by-day/2011-05-13.csv\n",
      "/kaggle/input/apchesparkbook/by-day/by-day/2010-12-19.csv\n",
      "/kaggle/input/apchesparkbook/by-day/by-day/2011-05-17.csv\n",
      "/kaggle/input/apchesparkbook/by-day/by-day/2011-01-28.csv\n",
      "/kaggle/input/apchesparkbook/by-day/by-day/2011-11-11.csv\n",
      "/kaggle/input/apchesparkbook/by-day/by-day/2011-09-05.csv\n",
      "/kaggle/input/apchesparkbook/by-day/by-day/2011-09-23.csv\n",
      "/kaggle/input/apchesparkbook/by-day/by-day/2011-06-16.csv\n",
      "/kaggle/input/apchesparkbook/by-day/by-day/2010-12-22.csv\n",
      "/kaggle/input/apchesparkbook/by-day/by-day/2011-03-03.csv\n",
      "/kaggle/input/apchesparkbook/by-day/by-day/2011-03-18.csv\n",
      "/kaggle/input/apchesparkbook/by-day/by-day/2011-07-19.csv\n",
      "/kaggle/input/apchesparkbook/by-day/by-day/2011-06-23.csv\n",
      "/kaggle/input/apchesparkbook/by-day/by-day/2011-02-24.csv\n",
      "/kaggle/input/apchesparkbook/by-day/by-day/2011-05-10.csv\n",
      "/kaggle/input/apchesparkbook/by-day/by-day/2011-06-09.csv\n",
      "/kaggle/input/apchesparkbook/by-day/by-day/2010-12-03.csv\n",
      "/kaggle/input/apchesparkbook/by-day/by-day/2011-02-13.csv\n",
      "/kaggle/input/apchesparkbook/by-day/by-day/2011-05-31.csv\n",
      "/kaggle/input/apchesparkbook/by-day/by-day/2011-03-22.csv\n",
      "/kaggle/input/apchesparkbook/by-day/by-day/2011-11-01.csv\n",
      "/kaggle/input/apchesparkbook/by-day/by-day/2011-07-06.csv\n",
      "/kaggle/input/apchesparkbook/by-day/by-day/2011-06-20.csv\n",
      "/kaggle/input/apchesparkbook/by-day/by-day/2011-05-23.csv\n",
      "/kaggle/input/apchesparkbook/by-day/by-day/2011-09-21.csv\n",
      "/kaggle/input/apchesparkbook/by-day/by-day/2011-03-24.csv\n",
      "/kaggle/input/apchesparkbook/by-day/by-day/2011-04-05.csv\n",
      "/kaggle/input/apchesparkbook/by-day/by-day/2011-07-20.csv\n",
      "/kaggle/input/apchesparkbook/by-day/by-day/2011-12-08.csv\n",
      "/kaggle/input/apchesparkbook/by-day/by-day/2011-02-20.csv\n",
      "/kaggle/input/apchesparkbook/by-day/by-day/2011-01-10.csv\n",
      "/kaggle/input/apchesparkbook/by-day/by-day/2011-10-06.csv\n",
      "/kaggle/input/apchesparkbook/by-day/by-day/2011-07-26.csv\n",
      "/kaggle/input/apchesparkbook/by-day/by-day/2011-05-16.csv\n",
      "/kaggle/input/apchesparkbook/by-day/by-day/2011-06-10.csv\n",
      "/kaggle/input/apchesparkbook/by-day/by-day/2011-05-29.csv\n",
      "/kaggle/input/apchesparkbook/by-day/by-day/2011-09-19.csv\n",
      "/kaggle/input/apchesparkbook/by-day/by-day/2010-12-15.csv\n",
      "/kaggle/input/apchesparkbook/by-day/by-day/2011-11-16.csv\n",
      "/kaggle/input/apchesparkbook/by-day/by-day/2011-05-27.csv\n",
      "/kaggle/input/apchesparkbook/by-day/by-day/2011-05-06.csv\n",
      "/kaggle/input/apchesparkbook/by-day/by-day/2011-04-12.csv\n",
      "/kaggle/input/apchesparkbook/by-day/by-day/2011-10-23.csv\n",
      "/kaggle/input/apchesparkbook/by-day/by-day/2011-10-18.csv\n",
      "/kaggle/input/apchesparkbook/by-day/by-day/2011-05-04.csv\n",
      "/kaggle/input/apchesparkbook/by-day/by-day/2011-08-21.csv\n",
      "/kaggle/input/apchesparkbook/by-day/by-day/2011-10-27.csv\n",
      "/kaggle/input/apchesparkbook/by-day/by-day/2011-04-10.csv\n",
      "/kaggle/input/apchesparkbook/by-day/by-day/2011-01-21.csv\n",
      "/kaggle/input/apchesparkbook/by-day/by-day/2011-05-25.csv\n",
      "/kaggle/input/apchesparkbook/by-day/by-day/2011-02-25.csv\n",
      "/kaggle/input/apchesparkbook/by-day/by-day/2011-06-17.csv\n",
      "/kaggle/input/apchesparkbook/by-day/by-day/2011-04-15.csv\n",
      "/kaggle/input/apchesparkbook/by-day/by-day/2011-07-05.csv\n",
      "/kaggle/input/apchesparkbook/by-day/by-day/2011-04-08.csv\n",
      "/kaggle/input/apchesparkbook/by-day/by-day/2011-04-06.csv\n",
      "/kaggle/input/apchesparkbook/by-day/by-day/2011-02-09.csv\n",
      "/kaggle/input/apchesparkbook/by-day/by-day/2011-01-18.csv\n",
      "/kaggle/input/apchesparkbook/by-day/by-day/2011-09-09.csv\n",
      "/kaggle/input/apchesparkbook/by-day/by-day/2011-08-31.csv\n",
      "/kaggle/input/apchesparkbook/by-day/by-day/2011-08-15.csv\n",
      "/kaggle/input/apchesparkbook/by-day/by-day/2011-03-07.csv\n",
      "/kaggle/input/apchesparkbook/by-day/by-day/2011-10-03.csv\n",
      "/kaggle/input/apchesparkbook/by-day/by-day/2011-05-24.csv\n",
      "/kaggle/input/apchesparkbook/by-day/by-day/2011-06-24.csv\n",
      "/kaggle/input/apchesparkbook/by-day/by-day/2011-06-03.csv\n",
      "/kaggle/input/apchesparkbook/by-day/by-day/2011-01-20.csv\n",
      "/kaggle/input/apchesparkbook/by-day/by-day/2011-05-12.csv\n",
      "/kaggle/input/apchesparkbook/by-day/by-day/2011-09-08.csv\n",
      "/kaggle/input/apchesparkbook/by-day/by-day/2011-04-13.csv\n",
      "/kaggle/input/apchesparkbook/by-day/by-day/2011-08-09.csv\n",
      "/kaggle/input/apchesparkbook/by-day/by-day/2011-02-22.csv\n",
      "/kaggle/input/apchesparkbook/by-day/by-day/2011-07-11.csv\n",
      "/kaggle/input/apchesparkbook/by-day/by-day/2011-10-09.csv\n",
      "/kaggle/input/apchesparkbook/by-day/by-day/2011-07-14.csv\n",
      "/kaggle/input/apchesparkbook/by-day/by-day/2011-02-27.csv\n",
      "/kaggle/input/apchesparkbook/by-day/by-day/2011-11-10.csv\n",
      "/kaggle/input/apchesparkbook/by-day/by-day/2011-10-25.csv\n",
      "/kaggle/input/apchesparkbook/by-day/by-day/2011-03-17.csv\n",
      "/kaggle/input/apchesparkbook/by-day/by-day/2010-12-12.csv\n",
      "/kaggle/input/apchesparkbook/by-day/by-day/2011-11-18.csv\n",
      "/kaggle/input/apchesparkbook/by-day/by-day/2011-05-19.csv\n",
      "/kaggle/input/apchesparkbook/by-day/by-day/2011-04-03.csv\n",
      "/kaggle/input/apchesparkbook/by-day/by-day/2011-02-15.csv\n",
      "/kaggle/input/apchesparkbook/by-day/by-day/2011-03-29.csv\n",
      "/kaggle/input/apchesparkbook/by-day/by-day/2011-04-18.csv\n",
      "/kaggle/input/apchesparkbook/by-day/by-day/2011-11-21.csv\n",
      "/kaggle/input/apchesparkbook/by-day/by-day/2011-03-10.csv\n",
      "/kaggle/input/apchesparkbook/by-day/by-day/2011-06-14.csv\n",
      "/kaggle/input/apchesparkbook/by-day/by-day/2010-12-14.csv\n",
      "/kaggle/input/apchesparkbook/by-day/by-day/2011-06-05.csv\n",
      "/kaggle/input/apchesparkbook/by-day/by-day/2011-10-12.csv\n",
      "/kaggle/input/apchesparkbook/by-day/by-day/2011-08-07.csv\n",
      "/kaggle/input/apchesparkbook/by-day/by-day/2011-08-05.csv\n",
      "/kaggle/input/apchesparkbook/by-day/by-day/2010-12-06.csv\n",
      "/kaggle/input/apchesparkbook/by-day/by-day/2011-11-27.csv\n",
      "/kaggle/input/apchesparkbook/by-day/by-day/2011-10-26.csv\n",
      "/kaggle/input/apchesparkbook/by-day/by-day/2011-02-11.csv\n",
      "/kaggle/input/apchesparkbook/by-day/by-day/2011-08-14.csv\n",
      "/kaggle/input/apchesparkbook/by-day/by-day/2011-01-19.csv\n",
      "/kaggle/input/apchesparkbook/by-day/by-day/2011-08-08.csv\n",
      "/kaggle/input/apchesparkbook/by-day/by-day/2011-06-06.csv\n",
      "/kaggle/input/apchesparkbook/by-day/by-day/2011-08-02.csv\n",
      "/kaggle/input/apchesparkbook/by-day/by-day/2011-08-10.csv\n",
      "/kaggle/input/apchesparkbook/by-day/by-day/2011-07-31.csv\n",
      "/kaggle/input/apchesparkbook/by-day/by-day/2011-01-30.csv\n",
      "/kaggle/input/apchesparkbook/by-day/by-day/2011-08-04.csv\n",
      "/kaggle/input/apchesparkbook/by-day/by-day/2011-08-25.csv\n",
      "/kaggle/input/apchesparkbook/by-day/by-day/2011-03-23.csv\n",
      "/kaggle/input/apchesparkbook/by-day/by-day/2011-11-13.csv\n",
      "/kaggle/input/apchesparkbook/by-day/by-day/2011-08-12.csv\n",
      "/kaggle/input/apchesparkbook/by-day/by-day/2011-01-07.csv\n"
     ]
    }
   ],
   "source": [
    "# This Python 3 environment comes with many helpful analytics libraries installed\n",
    "# It is defined by the kaggle/python Docker image: https://github.com/kaggle/docker-python\n",
    "# For example, here's several helpful packages to load\n",
    "\n",
    "import numpy as np # linear algebra\n",
    "import pandas as pd # data processing, CSV file I/O (e.g. pd.read_csv)\n",
    "\n",
    "# Input data files are available in the read-only \"../input/\" directory\n",
    "# For example, running this (by clicking run or pressing Shift+Enter) will list all files under the input directory\n",
    "\n",
    "import os\n",
    "for dirname, _, filenames in os.walk('/kaggle/input'):\n",
    "    for filename in filenames:\n",
    "        print(os.path.join(dirname, filename))\n",
    "\n",
    "# You can write up to 20GB to the current directory (/kaggle/working/) that gets preserved as output when you create a version using \"Save & Run All\" \n",
    "# You can also write temporary files to /kaggle/temp/, but they won't be saved outside of the current session"
   ]
  },
  {
   "cell_type": "code",
   "execution_count": 2,
   "id": "d73f0582",
   "metadata": {
    "execution": {
     "iopub.execute_input": "2022-09-02T12:26:11.303519Z",
     "iopub.status.busy": "2022-09-02T12:26:11.303145Z",
     "iopub.status.idle": "2022-09-02T12:27:08.687054Z",
     "shell.execute_reply": "2022-09-02T12:27:08.684913Z"
    },
    "papermill": {
     "duration": 57.401205,
     "end_time": "2022-09-02T12:27:08.690722",
     "exception": false,
     "start_time": "2022-09-02T12:26:11.289517",
     "status": "completed"
    },
    "tags": []
   },
   "outputs": [
    {
     "name": "stdout",
     "output_type": "stream",
     "text": [
      "Collecting pyspark\r\n",
      "  Downloading pyspark-3.3.0.tar.gz (281.3 MB)\r\n",
      "\u001b[2K     \u001b[90m━━━━━━━━━━━━━━━━━━━━━━━━━━━━━━━━━━━━━━━\u001b[0m \u001b[32m281.3/281.3 MB\u001b[0m \u001b[31m3.6 MB/s\u001b[0m eta \u001b[36m0:00:00\u001b[0m\r\n",
      "\u001b[?25h  Preparing metadata (setup.py) ... \u001b[?25l-\b \b\\\b \bdone\r\n",
      "\u001b[?25hRequirement already satisfied: py4j==0.10.9.5 in /opt/conda/lib/python3.7/site-packages (from pyspark) (0.10.9.5)\r\n",
      "Building wheels for collected packages: pyspark\r\n",
      "  Building wheel for pyspark (setup.py) ... \u001b[?25l-\b \b\\\b \b|\b \b/\b \b-\b \b\\\b \b|\b \b/\b \b-\b \b\\\b \b|\b \b/\b \b-\b \b\\\b \b|\b \b/\b \b-\b \b\\\b \b|\b \b/\b \b-\b \b\\\b \b|\b \b/\b \b-\b \b\\\b \b|\b \b/\b \b-\b \b\\\b \b|\b \b/\b \b-\b \b\\\b \b|\b \b/\b \b-\b \b\\\b \b|\b \b/\b \b-\b \b\\\b \b|\b \b/\b \b-\b \b\\\b \b|\b \b/\b \b-\b \b\\\b \b|\b \b/\b \b-\b \b\\\b \b|\b \b/\b \b-\b \b\\\b \b|\b \b/\b \b-\b \b\\\b \b|\b \b/\b \b-\b \b\\\b \b|\b \b/\b \bdone\r\n",
      "\u001b[?25h  Created wheel for pyspark: filename=pyspark-3.3.0-py2.py3-none-any.whl size=281764026 sha256=0a0a49cbc045293409220ae8036a7186b89f4b9ff3e2767435897448ee19bfba\r\n",
      "  Stored in directory: /root/.cache/pip/wheels/7a/8e/1b/f73a52650d2e5f337708d9f6a1750d451a7349a867f928b885\r\n",
      "Successfully built pyspark\r\n",
      "Installing collected packages: pyspark\r\n",
      "Successfully installed pyspark-3.3.0\r\n",
      "\u001b[33mWARNING: Running pip as the 'root' user can result in broken permissions and conflicting behaviour with the system package manager. It is recommended to use a virtual environment instead: https://pip.pypa.io/warnings/venv\u001b[0m\u001b[33m\r\n",
      "\u001b[0m"
     ]
    }
   ],
   "source": [
    "!pip install pyspark"
   ]
  },
  {
   "cell_type": "code",
   "execution_count": 3,
   "id": "1bfca556",
   "metadata": {
    "execution": {
     "iopub.execute_input": "2022-09-02T12:27:08.745235Z",
     "iopub.status.busy": "2022-09-02T12:27:08.744808Z",
     "iopub.status.idle": "2022-09-02T12:27:14.804324Z",
     "shell.execute_reply": "2022-09-02T12:27:14.802818Z"
    },
    "papermill": {
     "duration": 6.090753,
     "end_time": "2022-09-02T12:27:14.807643",
     "exception": false,
     "start_time": "2022-09-02T12:27:08.716890",
     "status": "completed"
    },
    "tags": []
   },
   "outputs": [
    {
     "name": "stderr",
     "output_type": "stream",
     "text": [
      "Setting default log level to \"WARN\".\n",
      "To adjust logging level use sc.setLogLevel(newLevel). For SparkR, use setLogLevel(newLevel).\n"
     ]
    },
    {
     "name": "stdout",
     "output_type": "stream",
     "text": [
      "22/09/02 12:27:12 WARN NativeCodeLoader: Unable to load native-hadoop library for your platform... using builtin-java classes where applicable\n"
     ]
    }
   ],
   "source": [
    "import pyspark\n",
    "from pyspark.sql import SparkSession\n",
    "spark = SparkSession.builder.appName('Book').getOrCreate()"
   ]
  },
  {
   "cell_type": "code",
   "execution_count": 4,
   "id": "b224ee3e",
   "metadata": {
    "execution": {
     "iopub.execute_input": "2022-09-02T12:27:14.866411Z",
     "iopub.status.busy": "2022-09-02T12:27:14.865520Z",
     "iopub.status.idle": "2022-09-02T12:27:16.198434Z",
     "shell.execute_reply": "2022-09-02T12:27:16.197204Z"
    },
    "papermill": {
     "duration": 1.365847,
     "end_time": "2022-09-02T12:27:16.201910",
     "exception": false,
     "start_time": "2022-09-02T12:27:14.836063",
     "status": "completed"
    },
    "tags": []
   },
   "outputs": [
    {
     "data": {
      "text/html": [
       "\n",
       "            <div>\n",
       "                <p><b>SparkSession - in-memory</b></p>\n",
       "                \n",
       "        <div>\n",
       "            <p><b>SparkContext</b></p>\n",
       "\n",
       "            <p><a href=\"http://7f989b4b2b7a:4040\">Spark UI</a></p>\n",
       "\n",
       "            <dl>\n",
       "              <dt>Version</dt>\n",
       "                <dd><code>v3.3.0</code></dd>\n",
       "              <dt>Master</dt>\n",
       "                <dd><code>local[*]</code></dd>\n",
       "              <dt>AppName</dt>\n",
       "                <dd><code>Book</code></dd>\n",
       "            </dl>\n",
       "        </div>\n",
       "        \n",
       "            </div>\n",
       "        "
      ],
      "text/plain": [
       "<pyspark.sql.session.SparkSession at 0x7f0554744190>"
      ]
     },
     "execution_count": 4,
     "metadata": {},
     "output_type": "execute_result"
    }
   ],
   "source": [
    "spark"
   ]
  },
  {
   "cell_type": "code",
   "execution_count": 5,
   "id": "a65ba880",
   "metadata": {
    "execution": {
     "iopub.execute_input": "2022-09-02T12:27:16.267523Z",
     "iopub.status.busy": "2022-09-02T12:27:16.265988Z",
     "iopub.status.idle": "2022-09-02T12:27:18.916401Z",
     "shell.execute_reply": "2022-09-02T12:27:18.915235Z"
    },
    "papermill": {
     "duration": 2.685403,
     "end_time": "2022-09-02T12:27:18.919840",
     "exception": false,
     "start_time": "2022-09-02T12:27:16.234437",
     "status": "completed"
    },
    "tags": []
   },
   "outputs": [],
   "source": [
    "# Creating a range of numbers. This range of numbers is just like a named column in a spreadsheet\n",
    "# This range of numbers represents a distributed collection\n",
    "# When run on a cluster, each part of this range of numbers exists on a different executor\n",
    "#  This is a Spark DataFrame\n",
    "    \n",
    "myRange = spark.range(1000).toDF(\"number\")"
   ]
  },
  {
   "cell_type": "code",
   "execution_count": 6,
   "id": "98fdee59",
   "metadata": {
    "execution": {
     "iopub.execute_input": "2022-09-02T12:27:18.986879Z",
     "iopub.status.busy": "2022-09-02T12:27:18.986423Z",
     "iopub.status.idle": "2022-09-02T12:27:19.133661Z",
     "shell.execute_reply": "2022-09-02T12:27:19.132272Z"
    },
    "papermill": {
     "duration": 0.186125,
     "end_time": "2022-09-02T12:27:19.137670",
     "exception": false,
     "start_time": "2022-09-02T12:27:18.951545",
     "status": "completed"
    },
    "tags": []
   },
   "outputs": [
    {
     "data": {
      "text/plain": [
       "DataFrame[number: bigint]"
      ]
     },
     "execution_count": 6,
     "metadata": {},
     "output_type": "execute_result"
    }
   ],
   "source": [
    "myRange"
   ]
  },
  {
   "cell_type": "code",
   "execution_count": 7,
   "id": "fcb21e81",
   "metadata": {
    "execution": {
     "iopub.execute_input": "2022-09-02T12:27:19.215287Z",
     "iopub.status.busy": "2022-09-02T12:27:19.214023Z",
     "iopub.status.idle": "2022-09-02T12:27:21.504639Z",
     "shell.execute_reply": "2022-09-02T12:27:21.503426Z"
    },
    "papermill": {
     "duration": 2.327904,
     "end_time": "2022-09-02T12:27:21.508265",
     "exception": false,
     "start_time": "2022-09-02T12:27:19.180361",
     "status": "completed"
    },
    "tags": []
   },
   "outputs": [
    {
     "name": "stdout",
     "output_type": "stream",
     "text": [
      "+------+\n",
      "|number|\n",
      "+------+\n",
      "|     0|\n",
      "|     1|\n",
      "|     2|\n",
      "|     3|\n",
      "|     4|\n",
      "|     5|\n",
      "|     6|\n",
      "|     7|\n",
      "|     8|\n",
      "|     9|\n",
      "|    10|\n",
      "|    11|\n",
      "|    12|\n",
      "|    13|\n",
      "|    14|\n",
      "|    15|\n",
      "|    16|\n",
      "|    17|\n",
      "|    18|\n",
      "|    19|\n",
      "+------+\n",
      "only showing top 20 rows\n",
      "\n"
     ]
    }
   ],
   "source": [
    "myRange.show()"
   ]
  },
  {
   "cell_type": "code",
   "execution_count": 8,
   "id": "8b15d6dd",
   "metadata": {
    "execution": {
     "iopub.execute_input": "2022-09-02T12:27:21.591001Z",
     "iopub.status.busy": "2022-09-02T12:27:21.590002Z",
     "iopub.status.idle": "2022-09-02T12:27:21.601304Z",
     "shell.execute_reply": "2022-09-02T12:27:21.600136Z"
    },
    "papermill": {
     "duration": 0.059217,
     "end_time": "2022-09-02T12:27:21.606536",
     "exception": false,
     "start_time": "2022-09-02T12:27:21.547319",
     "status": "completed"
    },
    "tags": []
   },
   "outputs": [
    {
     "data": {
      "text/plain": [
       "pyspark.sql.dataframe.DataFrame"
      ]
     },
     "execution_count": 8,
     "metadata": {},
     "output_type": "execute_result"
    }
   ],
   "source": [
    "type(myRange)"
   ]
  },
  {
   "cell_type": "code",
   "execution_count": 9,
   "id": "63a5851b",
   "metadata": {
    "execution": {
     "iopub.execute_input": "2022-09-02T12:27:21.676836Z",
     "iopub.status.busy": "2022-09-02T12:27:21.675630Z",
     "iopub.status.idle": "2022-09-02T12:27:21.685914Z",
     "shell.execute_reply": "2022-09-02T12:27:21.684670Z"
    },
    "papermill": {
     "duration": 0.043434,
     "end_time": "2022-09-02T12:27:21.689731",
     "exception": false,
     "start_time": "2022-09-02T12:27:21.646297",
     "status": "completed"
    },
    "tags": []
   },
   "outputs": [
    {
     "name": "stdout",
     "output_type": "stream",
     "text": [
      "root\n",
      " |-- number: long (nullable = false)\n",
      "\n"
     ]
    }
   ],
   "source": [
    "myRange.printSchema()"
   ]
  },
  {
   "cell_type": "code",
   "execution_count": 10,
   "id": "6d5ef20d",
   "metadata": {
    "execution": {
     "iopub.execute_input": "2022-09-02T12:27:21.745403Z",
     "iopub.status.busy": "2022-09-02T12:27:21.745009Z",
     "iopub.status.idle": "2022-09-02T12:27:21.852851Z",
     "shell.execute_reply": "2022-09-02T12:27:21.851404Z"
    },
    "papermill": {
     "duration": 0.139803,
     "end_time": "2022-09-02T12:27:21.856632",
     "exception": false,
     "start_time": "2022-09-02T12:27:21.716829",
     "status": "completed"
    },
    "tags": []
   },
   "outputs": [],
   "source": [
    "divisBy2 = myRange.where(\"number % 2 = 0\")"
   ]
  },
  {
   "cell_type": "code",
   "execution_count": 11,
   "id": "66143ba1",
   "metadata": {
    "execution": {
     "iopub.execute_input": "2022-09-02T12:27:21.946762Z",
     "iopub.status.busy": "2022-09-02T12:27:21.946174Z",
     "iopub.status.idle": "2022-09-02T12:27:22.454235Z",
     "shell.execute_reply": "2022-09-02T12:27:22.452828Z"
    },
    "papermill": {
     "duration": 0.561887,
     "end_time": "2022-09-02T12:27:22.460892",
     "exception": false,
     "start_time": "2022-09-02T12:27:21.899005",
     "status": "completed"
    },
    "tags": []
   },
   "outputs": [
    {
     "name": "stdout",
     "output_type": "stream",
     "text": [
      "+------+\n",
      "|number|\n",
      "+------+\n",
      "|     0|\n",
      "|     2|\n",
      "|     4|\n",
      "|     6|\n",
      "|     8|\n",
      "|    10|\n",
      "|    12|\n",
      "|    14|\n",
      "|    16|\n",
      "|    18|\n",
      "|    20|\n",
      "|    22|\n",
      "|    24|\n",
      "|    26|\n",
      "|    28|\n",
      "|    30|\n",
      "|    32|\n",
      "|    34|\n",
      "|    36|\n",
      "|    38|\n",
      "+------+\n",
      "only showing top 20 rows\n",
      "\n"
     ]
    }
   ],
   "source": [
    "divisBy2.show()"
   ]
  },
  {
   "cell_type": "code",
   "execution_count": 12,
   "id": "f3a595a7",
   "metadata": {
    "execution": {
     "iopub.execute_input": "2022-09-02T12:27:22.572353Z",
     "iopub.status.busy": "2022-09-02T12:27:22.571820Z",
     "iopub.status.idle": "2022-09-02T12:27:23.790657Z",
     "shell.execute_reply": "2022-09-02T12:27:23.788896Z"
    },
    "papermill": {
     "duration": 1.266944,
     "end_time": "2022-09-02T12:27:23.796469",
     "exception": false,
     "start_time": "2022-09-02T12:27:22.529525",
     "status": "completed"
    },
    "tags": []
   },
   "outputs": [
    {
     "data": {
      "text/plain": [
       "500"
      ]
     },
     "execution_count": 12,
     "metadata": {},
     "output_type": "execute_result"
    }
   ],
   "source": [
    "divisBy2.count()"
   ]
  },
  {
   "cell_type": "code",
   "execution_count": 13,
   "id": "3d3335b2",
   "metadata": {
    "execution": {
     "iopub.execute_input": "2022-09-02T12:27:23.885617Z",
     "iopub.status.busy": "2022-09-02T12:27:23.884291Z",
     "iopub.status.idle": "2022-09-02T12:27:25.204124Z",
     "shell.execute_reply": "2022-09-02T12:27:25.202460Z"
    },
    "papermill": {
     "duration": 1.364998,
     "end_time": "2022-09-02T12:27:25.207916",
     "exception": false,
     "start_time": "2022-09-02T12:27:23.842918",
     "status": "completed"
    },
    "tags": []
   },
   "outputs": [],
   "source": [
    "flightData2015 = spark\\\n",
    "  .read\\\n",
    "  .option(\"inferSchema\", \"true\")\\\n",
    "  .option(\"header\", \"true\")\\\n",
    "  .csv(\"../input/apchesparkbook/2015-summary.csv\")\n"
   ]
  },
  {
   "cell_type": "code",
   "execution_count": 14,
   "id": "00182bde",
   "metadata": {
    "execution": {
     "iopub.execute_input": "2022-09-02T12:27:25.291258Z",
     "iopub.status.busy": "2022-09-02T12:27:25.290645Z",
     "iopub.status.idle": "2022-09-02T12:27:25.597021Z",
     "shell.execute_reply": "2022-09-02T12:27:25.595787Z"
    },
    "papermill": {
     "duration": 0.35211,
     "end_time": "2022-09-02T12:27:25.600312",
     "exception": false,
     "start_time": "2022-09-02T12:27:25.248202",
     "status": "completed"
    },
    "tags": []
   },
   "outputs": [
    {
     "data": {
      "text/plain": [
       "[Row(DEST_COUNTRY_NAME='United States', ORIGIN_COUNTRY_NAME='Romania', count=15),\n",
       " Row(DEST_COUNTRY_NAME='United States', ORIGIN_COUNTRY_NAME='Croatia', count=1),\n",
       " Row(DEST_COUNTRY_NAME='United States', ORIGIN_COUNTRY_NAME='Ireland', count=344)]"
      ]
     },
     "execution_count": 14,
     "metadata": {},
     "output_type": "execute_result"
    }
   ],
   "source": [
    "flightData2015.take(3)"
   ]
  },
  {
   "cell_type": "code",
   "execution_count": 15,
   "id": "465d6c00",
   "metadata": {
    "execution": {
     "iopub.execute_input": "2022-09-02T12:27:25.673593Z",
     "iopub.status.busy": "2022-09-02T12:27:25.672601Z",
     "iopub.status.idle": "2022-09-02T12:27:25.803127Z",
     "shell.execute_reply": "2022-09-02T12:27:25.801853Z"
    },
    "papermill": {
     "duration": 0.166091,
     "end_time": "2022-09-02T12:27:25.806508",
     "exception": false,
     "start_time": "2022-09-02T12:27:25.640417",
     "status": "completed"
    },
    "tags": []
   },
   "outputs": [
    {
     "data": {
      "text/plain": [
       "[Row(DEST_COUNTRY_NAME='United States', ORIGIN_COUNTRY_NAME='Romania', count=15),\n",
       " Row(DEST_COUNTRY_NAME='United States', ORIGIN_COUNTRY_NAME='Croatia', count=1),\n",
       " Row(DEST_COUNTRY_NAME='United States', ORIGIN_COUNTRY_NAME='Ireland', count=344)]"
      ]
     },
     "execution_count": 15,
     "metadata": {},
     "output_type": "execute_result"
    }
   ],
   "source": [
    "flightData2015.head(3)"
   ]
  },
  {
   "cell_type": "code",
   "execution_count": 16,
   "id": "fa36afc8",
   "metadata": {
    "execution": {
     "iopub.execute_input": "2022-09-02T12:27:25.892031Z",
     "iopub.status.busy": "2022-09-02T12:27:25.891417Z",
     "iopub.status.idle": "2022-09-02T12:27:26.102014Z",
     "shell.execute_reply": "2022-09-02T12:27:26.100765Z"
    },
    "papermill": {
     "duration": 0.257109,
     "end_time": "2022-09-02T12:27:26.106173",
     "exception": false,
     "start_time": "2022-09-02T12:27:25.849064",
     "status": "completed"
    },
    "tags": []
   },
   "outputs": [
    {
     "name": "stdout",
     "output_type": "stream",
     "text": [
      "+--------------------+-------------------+-----+\n",
      "|   DEST_COUNTRY_NAME|ORIGIN_COUNTRY_NAME|count|\n",
      "+--------------------+-------------------+-----+\n",
      "|       United States|            Romania|   15|\n",
      "|       United States|            Croatia|    1|\n",
      "|       United States|            Ireland|  344|\n",
      "|               Egypt|      United States|   15|\n",
      "|       United States|              India|   62|\n",
      "|       United States|          Singapore|    1|\n",
      "|       United States|            Grenada|   62|\n",
      "|          Costa Rica|      United States|  588|\n",
      "|             Senegal|      United States|   40|\n",
      "|             Moldova|      United States|    1|\n",
      "|       United States|       Sint Maarten|  325|\n",
      "|       United States|   Marshall Islands|   39|\n",
      "|              Guyana|      United States|   64|\n",
      "|               Malta|      United States|    1|\n",
      "|            Anguilla|      United States|   41|\n",
      "|             Bolivia|      United States|   30|\n",
      "|       United States|           Paraguay|    6|\n",
      "|             Algeria|      United States|    4|\n",
      "|Turks and Caicos ...|      United States|  230|\n",
      "|       United States|          Gibraltar|    1|\n",
      "+--------------------+-------------------+-----+\n",
      "only showing top 20 rows\n",
      "\n"
     ]
    }
   ],
   "source": [
    "flightData2015.show()"
   ]
  },
  {
   "cell_type": "code",
   "execution_count": 17,
   "id": "7cd25321",
   "metadata": {
    "execution": {
     "iopub.execute_input": "2022-09-02T12:27:26.192090Z",
     "iopub.status.busy": "2022-09-02T12:27:26.190584Z",
     "iopub.status.idle": "2022-09-02T12:27:26.254830Z",
     "shell.execute_reply": "2022-09-02T12:27:26.253640Z"
    },
    "papermill": {
     "duration": 0.112112,
     "end_time": "2022-09-02T12:27:26.258349",
     "exception": false,
     "start_time": "2022-09-02T12:27:26.146237",
     "status": "completed"
    },
    "tags": []
   },
   "outputs": [
    {
     "name": "stdout",
     "output_type": "stream",
     "text": [
      "== Physical Plan ==\n",
      "AdaptiveSparkPlan isFinalPlan=false\n",
      "+- Sort [count#39 ASC NULLS FIRST], true, 0\n",
      "   +- Exchange rangepartitioning(count#39 ASC NULLS FIRST, 200), ENSURE_REQUIREMENTS, [id=#117]\n",
      "      +- FileScan csv [DEST_COUNTRY_NAME#37,ORIGIN_COUNTRY_NAME#38,count#39] Batched: false, DataFilters: [], Format: CSV, Location: InMemoryFileIndex(1 paths)[file:/kaggle/input/apchesparkbook/2015-summary.csv], PartitionFilters: [], PushedFilters: [], ReadSchema: struct<DEST_COUNTRY_NAME:string,ORIGIN_COUNTRY_NAME:string,count:int>\n",
      "\n",
      "\n"
     ]
    }
   ],
   "source": [
    "flightData2015.sort(\"count\").explain()"
   ]
  },
  {
   "cell_type": "code",
   "execution_count": 18,
   "id": "e71c08b8",
   "metadata": {
    "execution": {
     "iopub.execute_input": "2022-09-02T12:27:26.341842Z",
     "iopub.status.busy": "2022-09-02T12:27:26.341297Z",
     "iopub.status.idle": "2022-09-02T12:27:26.718033Z",
     "shell.execute_reply": "2022-09-02T12:27:26.716739Z"
    },
    "papermill": {
     "duration": 0.424552,
     "end_time": "2022-09-02T12:27:26.722819",
     "exception": false,
     "start_time": "2022-09-02T12:27:26.298267",
     "status": "completed"
    },
    "tags": []
   },
   "outputs": [
    {
     "data": {
      "text/plain": [
       "[Row(DEST_COUNTRY_NAME='United States', ORIGIN_COUNTRY_NAME='Singapore', count=1),\n",
       " Row(DEST_COUNTRY_NAME='Moldova', ORIGIN_COUNTRY_NAME='United States', count=1)]"
      ]
     },
     "execution_count": 18,
     "metadata": {},
     "output_type": "execute_result"
    }
   ],
   "source": [
    "spark.conf.set(\"spark.sql.shuffle.partitions\", \"5\")\n",
    "flightData2015.sort(\"count\").take(2)"
   ]
  },
  {
   "cell_type": "markdown",
   "id": "ba0ccd77",
   "metadata": {
    "papermill": {
     "duration": 0.034251,
     "end_time": "2022-09-02T12:27:26.798844",
     "exception": false,
     "start_time": "2022-09-02T12:27:26.764593",
     "status": "completed"
    },
    "tags": []
   },
   "source": [
    "**DataFrames and SQL**"
   ]
  },
  {
   "cell_type": "code",
   "execution_count": 19,
   "id": "459b8900",
   "metadata": {
    "execution": {
     "iopub.execute_input": "2022-09-02T12:27:26.861554Z",
     "iopub.status.busy": "2022-09-02T12:27:26.861112Z",
     "iopub.status.idle": "2022-09-02T12:27:26.931068Z",
     "shell.execute_reply": "2022-09-02T12:27:26.929075Z"
    },
    "papermill": {
     "duration": 0.108381,
     "end_time": "2022-09-02T12:27:26.934620",
     "exception": false,
     "start_time": "2022-09-02T12:27:26.826239",
     "status": "completed"
    },
    "tags": []
   },
   "outputs": [],
   "source": [
    "flightData2015.createOrReplaceTempView(\"flight_data_2015\")"
   ]
  },
  {
   "cell_type": "code",
   "execution_count": 20,
   "id": "9d3d1ec5",
   "metadata": {
    "execution": {
     "iopub.execute_input": "2022-09-02T12:27:27.024551Z",
     "iopub.status.busy": "2022-09-02T12:27:27.024001Z",
     "iopub.status.idle": "2022-09-02T12:27:27.227879Z",
     "shell.execute_reply": "2022-09-02T12:27:27.226165Z"
    },
    "papermill": {
     "duration": 0.254142,
     "end_time": "2022-09-02T12:27:27.232896",
     "exception": false,
     "start_time": "2022-09-02T12:27:26.978754",
     "status": "completed"
    },
    "tags": []
   },
   "outputs": [
    {
     "name": "stdout",
     "output_type": "stream",
     "text": [
      "== Physical Plan ==\n",
      "AdaptiveSparkPlan isFinalPlan=false\n",
      "+- HashAggregate(keys=[DEST_COUNTRY_NAME#37], functions=[count(1)])\n",
      "   +- Exchange hashpartitioning(DEST_COUNTRY_NAME#37, 5), ENSURE_REQUIREMENTS, [id=#139]\n",
      "      +- HashAggregate(keys=[DEST_COUNTRY_NAME#37], functions=[partial_count(1)])\n",
      "         +- FileScan csv [DEST_COUNTRY_NAME#37] Batched: false, DataFilters: [], Format: CSV, Location: InMemoryFileIndex(1 paths)[file:/kaggle/input/apchesparkbook/2015-summary.csv], PartitionFilters: [], PushedFilters: [], ReadSchema: struct<DEST_COUNTRY_NAME:string>\n",
      "\n",
      "\n",
      "== Physical Plan ==\n",
      "AdaptiveSparkPlan isFinalPlan=false\n",
      "+- HashAggregate(keys=[DEST_COUNTRY_NAME#37], functions=[count(1)])\n",
      "   +- Exchange hashpartitioning(DEST_COUNTRY_NAME#37, 5), ENSURE_REQUIREMENTS, [id=#152]\n",
      "      +- HashAggregate(keys=[DEST_COUNTRY_NAME#37], functions=[partial_count(1)])\n",
      "         +- FileScan csv [DEST_COUNTRY_NAME#37] Batched: false, DataFilters: [], Format: CSV, Location: InMemoryFileIndex(1 paths)[file:/kaggle/input/apchesparkbook/2015-summary.csv], PartitionFilters: [], PushedFilters: [], ReadSchema: struct<DEST_COUNTRY_NAME:string>\n",
      "\n",
      "\n"
     ]
    }
   ],
   "source": [
    "# in Python\n",
    "sqlWay = spark.sql(\"\"\"\n",
    "SELECT DEST_COUNTRY_NAME, count(1)\n",
    "FROM flight_data_2015\n",
    "GROUP BY DEST_COUNTRY_NAME\n",
    "\"\"\")\n",
    "\n",
    "dataFrameWay = flightData2015\\\n",
    ".groupBy(\"DEST_COUNTRY_NAME\")\\\n",
    ".count()\n",
    "\n",
    "sqlWay.explain()\n",
    "dataFrameWay.explain()"
   ]
  },
  {
   "cell_type": "code",
   "execution_count": 21,
   "id": "fe1118e5",
   "metadata": {
    "execution": {
     "iopub.execute_input": "2022-09-02T12:27:27.328962Z",
     "iopub.status.busy": "2022-09-02T12:27:27.328408Z",
     "iopub.status.idle": "2022-09-02T12:27:27.694349Z",
     "shell.execute_reply": "2022-09-02T12:27:27.692784Z"
    },
    "papermill": {
     "duration": 0.423183,
     "end_time": "2022-09-02T12:27:27.703239",
     "exception": false,
     "start_time": "2022-09-02T12:27:27.280056",
     "status": "completed"
    },
    "tags": []
   },
   "outputs": [
    {
     "data": {
      "text/plain": [
       "[Row(max(count)=370002)]"
      ]
     },
     "execution_count": 21,
     "metadata": {},
     "output_type": "execute_result"
    }
   ],
   "source": [
    "from pyspark.sql.functions import max\n",
    "flightData2015.select(max(\"count\")).take(1)"
   ]
  },
  {
   "cell_type": "code",
   "execution_count": 22,
   "id": "59d4d0a4",
   "metadata": {
    "execution": {
     "iopub.execute_input": "2022-09-02T12:27:27.817220Z",
     "iopub.status.busy": "2022-09-02T12:27:27.816535Z",
     "iopub.status.idle": "2022-09-02T12:27:28.644927Z",
     "shell.execute_reply": "2022-09-02T12:27:28.643640Z"
    },
    "papermill": {
     "duration": 0.88355,
     "end_time": "2022-09-02T12:27:28.648904",
     "exception": false,
     "start_time": "2022-09-02T12:27:27.765354",
     "status": "completed"
    },
    "tags": []
   },
   "outputs": [
    {
     "name": "stdout",
     "output_type": "stream",
     "text": [
      "+-----------------+-----------------+\n",
      "|DEST_COUNTRY_NAME|destination_total|\n",
      "+-----------------+-----------------+\n",
      "|    United States|           411352|\n",
      "|           Canada|             8399|\n",
      "|           Mexico|             7140|\n",
      "|   United Kingdom|             2025|\n",
      "|            Japan|             1548|\n",
      "+-----------------+-----------------+\n",
      "\n"
     ]
    }
   ],
   "source": [
    "maxSql = spark.sql(\"\"\"\n",
    "SELECT DEST_COUNTRY_NAME, sum(count) as destination_total\n",
    "FROM flight_data_2015\n",
    "GROUP BY DEST_COUNTRY_NAME\n",
    "ORDER BY sum(count) DESC\n",
    "LIMIT 5\n",
    "\"\"\")\n",
    "maxSql.show()"
   ]
  },
  {
   "cell_type": "code",
   "execution_count": 23,
   "id": "160a2ed4",
   "metadata": {
    "execution": {
     "iopub.execute_input": "2022-09-02T12:27:28.737546Z",
     "iopub.status.busy": "2022-09-02T12:27:28.737016Z",
     "iopub.status.idle": "2022-09-02T12:27:29.161914Z",
     "shell.execute_reply": "2022-09-02T12:27:29.160670Z"
    },
    "papermill": {
     "duration": 0.472845,
     "end_time": "2022-09-02T12:27:29.165175",
     "exception": false,
     "start_time": "2022-09-02T12:27:28.692330",
     "status": "completed"
    },
    "tags": []
   },
   "outputs": [
    {
     "name": "stdout",
     "output_type": "stream",
     "text": [
      "+-----------------+-----------------+\n",
      "|DEST_COUNTRY_NAME|destination_total|\n",
      "+-----------------+-----------------+\n",
      "|    United States|           411352|\n",
      "|           Canada|             8399|\n",
      "|           Mexico|             7140|\n",
      "|   United Kingdom|             2025|\n",
      "|            Japan|             1548|\n",
      "+-----------------+-----------------+\n",
      "\n"
     ]
    }
   ],
   "source": [
    "### Book page 38\n",
    "from pyspark.sql.functions import desc\n",
    "flightData2015\\\n",
    ".groupBy(\"DEST_COUNTRY_NAME\")\\\n",
    ".sum(\"count\")\\\n",
    ".withColumnRenamed(\"sum(count)\", \"destination_total\")\\\n",
    ".sort(desc(\"destination_total\"))\\\n",
    ".limit(5)\\\n",
    ".show()"
   ]
  },
  {
   "cell_type": "code",
   "execution_count": 24,
   "id": "9469e222",
   "metadata": {
    "execution": {
     "iopub.execute_input": "2022-09-02T12:27:29.250737Z",
     "iopub.status.busy": "2022-09-02T12:27:29.250265Z",
     "iopub.status.idle": "2022-09-02T12:27:29.340607Z",
     "shell.execute_reply": "2022-09-02T12:27:29.338850Z"
    },
    "papermill": {
     "duration": 0.136516,
     "end_time": "2022-09-02T12:27:29.343709",
     "exception": false,
     "start_time": "2022-09-02T12:27:29.207193",
     "status": "completed"
    },
    "tags": []
   },
   "outputs": [
    {
     "name": "stdout",
     "output_type": "stream",
     "text": [
      "== Physical Plan ==\n",
      "AdaptiveSparkPlan isFinalPlan=false\n",
      "+- TakeOrderedAndProject(limit=5, orderBy=[destination_total#144L DESC NULLS LAST], output=[DEST_COUNTRY_NAME#37,destination_total#144L])\n",
      "   +- HashAggregate(keys=[DEST_COUNTRY_NAME#37], functions=[sum(count#39)])\n",
      "      +- Exchange hashpartitioning(DEST_COUNTRY_NAME#37, 5), ENSURE_REQUIREMENTS, [id=#320]\n",
      "         +- HashAggregate(keys=[DEST_COUNTRY_NAME#37], functions=[partial_sum(count#39)])\n",
      "            +- FileScan csv [DEST_COUNTRY_NAME#37,count#39] Batched: false, DataFilters: [], Format: CSV, Location: InMemoryFileIndex(1 paths)[file:/kaggle/input/apchesparkbook/2015-summary.csv], PartitionFilters: [], PushedFilters: [], ReadSchema: struct<DEST_COUNTRY_NAME:string,count:int>\n",
      "\n",
      "\n"
     ]
    }
   ],
   "source": [
    "# in Python\n",
    "flightData2015\\\n",
    ".groupBy(\"DEST_COUNTRY_NAME\")\\\n",
    ".sum(\"count\")\\\n",
    ".withColumnRenamed(\"sum(count)\", \"destination_total\")\\\n",
    ".sort(desc(\"destination_total\"))\\\n",
    ".limit(5)\\\n",
    ".explain()\n"
   ]
  },
  {
   "cell_type": "markdown",
   "id": "21faaeb8",
   "metadata": {
    "papermill": {
     "duration": 0.042287,
     "end_time": "2022-09-02T12:27:29.428405",
     "exception": false,
     "start_time": "2022-09-02T12:27:29.386118",
     "status": "completed"
    },
    "tags": []
   },
   "source": [
    "**Structured Streaming**"
   ]
  },
  {
   "cell_type": "code",
   "execution_count": 25,
   "id": "a4ff3ed2",
   "metadata": {
    "execution": {
     "iopub.execute_input": "2022-09-02T12:27:29.493827Z",
     "iopub.status.busy": "2022-09-02T12:27:29.493033Z",
     "iopub.status.idle": "2022-09-02T12:27:38.951169Z",
     "shell.execute_reply": "2022-09-02T12:27:38.948660Z"
    },
    "papermill": {
     "duration": 9.49107,
     "end_time": "2022-09-02T12:27:38.954420",
     "exception": false,
     "start_time": "2022-09-02T12:27:29.463350",
     "status": "completed"
    },
    "tags": []
   },
   "outputs": [
    {
     "name": "stderr",
     "output_type": "stream",
     "text": [
      "                                                                                \r"
     ]
    }
   ],
   "source": [
    "# in Python\n",
    "staticDataFrame = spark.read.format(\"csv\")\\\n",
    ".option(\"header\", \"true\")\\\n",
    ".option(\"inferSchema\", \"true\")\\\n",
    ".load(\"../input/apchesparkbook/by-day/by-day/*.csv\")\n",
    "\n",
    "staticDataFrame.createOrReplaceTempView(\"retail_data\")\n",
    "staticSchema = staticDataFrame.schema"
   ]
  },
  {
   "cell_type": "code",
   "execution_count": 26,
   "id": "abc2663e",
   "metadata": {
    "execution": {
     "iopub.execute_input": "2022-09-02T12:27:39.017116Z",
     "iopub.status.busy": "2022-09-02T12:27:39.016638Z",
     "iopub.status.idle": "2022-09-02T12:27:39.286074Z",
     "shell.execute_reply": "2022-09-02T12:27:39.284648Z"
    },
    "papermill": {
     "duration": 0.305049,
     "end_time": "2022-09-02T12:27:39.289924",
     "exception": false,
     "start_time": "2022-09-02T12:27:38.984875",
     "status": "completed"
    },
    "tags": []
   },
   "outputs": [
    {
     "name": "stdout",
     "output_type": "stream",
     "text": [
      "+---------+---------+--------------------+--------+-------------------+---------+----------+--------------+\n",
      "|InvoiceNo|StockCode|         Description|Quantity|        InvoiceDate|UnitPrice|CustomerID|       Country|\n",
      "+---------+---------+--------------------+--------+-------------------+---------+----------+--------------+\n",
      "|   580538|    23084|  RABBIT NIGHT LIGHT|      48|2011-12-05 08:38:00|     1.79|   14075.0|United Kingdom|\n",
      "|   580538|    23077| DOUGHNUT LIP GLOSS |      20|2011-12-05 08:38:00|     1.25|   14075.0|United Kingdom|\n",
      "|   580538|    22906|12 MESSAGE CARDS ...|      24|2011-12-05 08:38:00|     1.65|   14075.0|United Kingdom|\n",
      "|   580538|    21914|BLUE HARMONICA IN...|      24|2011-12-05 08:38:00|     1.25|   14075.0|United Kingdom|\n",
      "|   580538|    22467|   GUMBALL COAT RACK|       6|2011-12-05 08:38:00|     2.55|   14075.0|United Kingdom|\n",
      "|   580538|    21544|SKULLS  WATER TRA...|      48|2011-12-05 08:38:00|     0.85|   14075.0|United Kingdom|\n",
      "|   580538|    23126|FELTCRAFT GIRL AM...|       8|2011-12-05 08:38:00|     4.95|   14075.0|United Kingdom|\n",
      "|   580538|    21833|CAMOUFLAGE LED TORCH|      24|2011-12-05 08:38:00|     1.69|   14075.0|United Kingdom|\n",
      "|   580539|    21479|WHITE SKULL HOT W...|       4|2011-12-05 08:39:00|     4.25|   18180.0|United Kingdom|\n",
      "|   580539|   84030E|ENGLISH ROSE HOT ...|       4|2011-12-05 08:39:00|     4.25|   18180.0|United Kingdom|\n",
      "|   580539|    23355|HOT WATER BOTTLE ...|       4|2011-12-05 08:39:00|     4.95|   18180.0|United Kingdom|\n",
      "|   580539|    22111|SCOTTIE DOG HOT W...|       3|2011-12-05 08:39:00|     4.95|   18180.0|United Kingdom|\n",
      "|   580539|    21115|ROSE CARAVAN DOOR...|       8|2011-12-05 08:39:00|     1.95|   18180.0|United Kingdom|\n",
      "|   580539|    21411|GINGHAM HEART  DO...|       8|2011-12-05 08:39:00|     1.95|   18180.0|United Kingdom|\n",
      "|   580539|    23235|STORAGE TIN VINTA...|      12|2011-12-05 08:39:00|     1.25|   18180.0|United Kingdom|\n",
      "|   580539|    23239|SET OF 4 KNICK KN...|       6|2011-12-05 08:39:00|     1.65|   18180.0|United Kingdom|\n",
      "|   580539|    22197|      POPCORN HOLDER|      36|2011-12-05 08:39:00|     0.85|   18180.0|United Kingdom|\n",
      "|   580539|    22693|GROW A FLYTRAP OR...|      24|2011-12-05 08:39:00|     1.25|   18180.0|United Kingdom|\n",
      "|   580539|    22372|AIRLINE BAG VINTA...|       4|2011-12-05 08:39:00|     4.25|   18180.0|United Kingdom|\n",
      "|   580539|    22375|AIRLINE BAG VINTA...|       4|2011-12-05 08:39:00|     4.25|   18180.0|United Kingdom|\n",
      "+---------+---------+--------------------+--------+-------------------+---------+----------+--------------+\n",
      "only showing top 20 rows\n",
      "\n"
     ]
    }
   ],
   "source": [
    "staticDataFrame.show()"
   ]
  },
  {
   "cell_type": "code",
   "execution_count": 27,
   "id": "feeee346",
   "metadata": {
    "execution": {
     "iopub.execute_input": "2022-09-02T12:27:39.355407Z",
     "iopub.status.busy": "2022-09-02T12:27:39.354824Z",
     "iopub.status.idle": "2022-09-02T12:27:43.193816Z",
     "shell.execute_reply": "2022-09-02T12:27:43.192535Z"
    },
    "papermill": {
     "duration": 3.878711,
     "end_time": "2022-09-02T12:27:43.200233",
     "exception": false,
     "start_time": "2022-09-02T12:27:39.321522",
     "status": "completed"
    },
    "tags": []
   },
   "outputs": [
    {
     "name": "stderr",
     "output_type": "stream",
     "text": [
      "[Stage 25:=============================================>           (8 + 2) / 10]\r"
     ]
    },
    {
     "name": "stdout",
     "output_type": "stream",
     "text": [
      "+----------+--------------------+------------------+\n",
      "|CustomerId|              window|   sum(total_cost)|\n",
      "+----------+--------------------+------------------+\n",
      "|   14075.0|{2011-12-05 00:00...|316.78000000000003|\n",
      "|   18180.0|{2011-12-05 00:00...|            310.73|\n",
      "|   15358.0|{2011-12-05 00:00...| 830.0600000000003|\n",
      "|   15392.0|{2011-12-05 00:00...|304.40999999999997|\n",
      "|   15290.0|{2011-12-05 00:00...|263.02000000000004|\n",
      "+----------+--------------------+------------------+\n",
      "only showing top 5 rows\n",
      "\n"
     ]
    },
    {
     "name": "stderr",
     "output_type": "stream",
     "text": [
      "                                                                                \r"
     ]
    }
   ],
   "source": [
    "'''Because we’re working with time–series data, it’s worth mentioning how we might go along grouping\n",
    "and aggregating our data. In this example we’ll take a look at the sale hours during which a given\n",
    "customer (identified by CustomerId) makes a large purchase. For example, let’s add a total cost\n",
    "column and see on what days a customer spent the most.'''\n",
    "\n",
    "# in Python\n",
    "from pyspark.sql.functions import window, column, desc, col\n",
    "staticDataFrame\\\n",
    ".selectExpr(\n",
    "\"CustomerId\",\n",
    "\"(UnitPrice * Quantity) as total_cost\",\n",
    "\"InvoiceDate\")\\\n",
    ".groupBy(\n",
    "col(\"CustomerId\"), window(col(\"InvoiceDate\"), \"1 day\"))\\\n",
    ".sum(\"total_cost\")\\\n",
    ".show(5)\n"
   ]
  },
  {
   "cell_type": "code",
   "execution_count": 28,
   "id": "681ebc16",
   "metadata": {
    "execution": {
     "iopub.execute_input": "2022-09-02T12:27:43.282024Z",
     "iopub.status.busy": "2022-09-02T12:27:43.280598Z",
     "iopub.status.idle": "2022-09-02T12:27:44.787673Z",
     "shell.execute_reply": "2022-09-02T12:27:44.786407Z"
    },
    "papermill": {
     "duration": 1.54332,
     "end_time": "2022-09-02T12:27:44.790469",
     "exception": false,
     "start_time": "2022-09-02T12:27:43.247149",
     "status": "completed"
    },
    "tags": []
   },
   "outputs": [
    {
     "name": "stderr",
     "output_type": "stream",
     "text": [
      "                                                                                \r"
     ]
    }
   ],
   "source": [
    "streamingDataFrame = spark.readStream\\\n",
    "    .schema(staticSchema)\\\n",
    "    .option(\"maxFilesPerTrigger\", 1)\\\n",
    "    .format(\"csv\")\\\n",
    "    .option(\"header\", \"true\")\\\n",
    "    .load(\"../input/apchesparkbook/by-day/by-day/*.csv\")"
   ]
  },
  {
   "cell_type": "code",
   "execution_count": 29,
   "id": "4f24573d",
   "metadata": {
    "execution": {
     "iopub.execute_input": "2022-09-02T12:27:44.853768Z",
     "iopub.status.busy": "2022-09-02T12:27:44.853290Z",
     "iopub.status.idle": "2022-09-02T12:27:44.861369Z",
     "shell.execute_reply": "2022-09-02T12:27:44.860407Z"
    },
    "papermill": {
     "duration": 0.043185,
     "end_time": "2022-09-02T12:27:44.863901",
     "exception": false,
     "start_time": "2022-09-02T12:27:44.820716",
     "status": "completed"
    },
    "tags": []
   },
   "outputs": [
    {
     "data": {
      "text/plain": [
       "True"
      ]
     },
     "execution_count": 29,
     "metadata": {},
     "output_type": "execute_result"
    }
   ],
   "source": [
    "streamingDataFrame.isStreaming "
   ]
  },
  {
   "cell_type": "code",
   "execution_count": 30,
   "id": "3f83692b",
   "metadata": {
    "execution": {
     "iopub.execute_input": "2022-09-02T12:27:44.928115Z",
     "iopub.status.busy": "2022-09-02T12:27:44.926829Z",
     "iopub.status.idle": "2022-09-02T12:27:44.991875Z",
     "shell.execute_reply": "2022-09-02T12:27:44.990813Z"
    },
    "papermill": {
     "duration": 0.101283,
     "end_time": "2022-09-02T12:27:44.995004",
     "exception": false,
     "start_time": "2022-09-02T12:27:44.893721",
     "status": "completed"
    },
    "tags": []
   },
   "outputs": [],
   "source": [
    "# in Python\n",
    "purchaseByCustomerPerHour = streamingDataFrame\\\n",
    ".selectExpr(\n",
    "\"CustomerId\",\n",
    "\"(UnitPrice * Quantity) as total_cost\",\n",
    "\"InvoiceDate\")\\\n",
    ".groupBy(\n",
    "col(\"CustomerId\"), window(col(\"InvoiceDate\"), \"1 day\"))\\\n",
    ".sum(\"total_cost\")\n"
   ]
  },
  {
   "cell_type": "code",
   "execution_count": 31,
   "id": "4550ecaf",
   "metadata": {
    "execution": {
     "iopub.execute_input": "2022-09-02T12:27:45.059355Z",
     "iopub.status.busy": "2022-09-02T12:27:45.058374Z",
     "iopub.status.idle": "2022-09-02T12:27:45.454183Z",
     "shell.execute_reply": "2022-09-02T12:27:45.452798Z"
    },
    "papermill": {
     "duration": 0.432486,
     "end_time": "2022-09-02T12:27:45.457989",
     "exception": false,
     "start_time": "2022-09-02T12:27:45.025503",
     "status": "completed"
    },
    "tags": []
   },
   "outputs": [
    {
     "name": "stdout",
     "output_type": "stream",
     "text": [
      "22/09/02 12:27:45 WARN ResolveWriteToStream: Temporary checkpoint location created which is deleted normally when the query didn't fail: /tmp/temporary-bdc97ec8-521d-40ae-a473-6bdf9224625b. If it's required to delete it under any circumstances, please set spark.sql.streaming.forceDeleteTempCheckpointLocation to true. Important to know deleting temp checkpoint folder is best effort.\n",
      "22/09/02 12:27:45 WARN ResolveWriteToStream: spark.sql.adaptive.enabled is not supported in streaming DataFrames/Datasets and will be disabled.\n"
     ]
    },
    {
     "data": {
      "text/plain": [
       "<pyspark.sql.streaming.StreamingQuery at 0x7f05546c2510>"
      ]
     },
     "execution_count": 31,
     "metadata": {},
     "output_type": "execute_result"
    }
   ],
   "source": [
    "# in Python\n",
    "purchaseByCustomerPerHour.writeStream\\\n",
    ".format(\"memory\")\\\n",
    ".queryName(\"customer_purchases\")\\\n",
    ".outputMode(\"complete\")\\\n",
    ".start()"
   ]
  },
  {
   "cell_type": "code",
   "execution_count": 32,
   "id": "7329d5f2",
   "metadata": {
    "execution": {
     "iopub.execute_input": "2022-09-02T12:27:45.561446Z",
     "iopub.status.busy": "2022-09-02T12:27:45.560172Z",
     "iopub.status.idle": "2022-09-02T12:27:45.724503Z",
     "shell.execute_reply": "2022-09-02T12:27:45.723238Z"
    },
    "papermill": {
     "duration": 0.22375,
     "end_time": "2022-09-02T12:27:45.728689",
     "exception": false,
     "start_time": "2022-09-02T12:27:45.504939",
     "status": "completed"
    },
    "tags": []
   },
   "outputs": [
    {
     "name": "stdout",
     "output_type": "stream",
     "text": [
      "+----------+------+---------------+\n",
      "|CustomerId|window|sum(total_cost)|\n",
      "+----------+------+---------------+\n",
      "+----------+------+---------------+\n",
      "\n"
     ]
    }
   ],
   "source": [
    "# in Python\n",
    "spark.sql(\"\"\"\n",
    "SELECT *\n",
    "FROM customer_purchases\n",
    "ORDER BY `sum(total_cost)` DESC\n",
    "\"\"\")\\\n",
    ".show(5)"
   ]
  },
  {
   "cell_type": "markdown",
   "id": "1bcfcf4c",
   "metadata": {
    "papermill": {
     "duration": 0.060211,
     "end_time": "2022-09-02T12:27:45.846478",
     "exception": false,
     "start_time": "2022-09-02T12:27:45.786267",
     "status": "completed"
    },
    "tags": []
   },
   "source": [
    "**MLLib Library**"
   ]
  },
  {
   "cell_type": "code",
   "execution_count": 33,
   "id": "156cb8d2",
   "metadata": {
    "execution": {
     "iopub.execute_input": "2022-09-02T12:27:45.955627Z",
     "iopub.status.busy": "2022-09-02T12:27:45.955086Z",
     "iopub.status.idle": "2022-09-02T12:27:45.963195Z",
     "shell.execute_reply": "2022-09-02T12:27:45.961865Z"
    },
    "papermill": {
     "duration": 0.081529,
     "end_time": "2022-09-02T12:27:45.982372",
     "exception": false,
     "start_time": "2022-09-02T12:27:45.900843",
     "status": "completed"
    },
    "tags": []
   },
   "outputs": [
    {
     "name": "stdout",
     "output_type": "stream",
     "text": [
      "root\n",
      " |-- InvoiceNo: string (nullable = true)\n",
      " |-- StockCode: string (nullable = true)\n",
      " |-- Description: string (nullable = true)\n",
      " |-- Quantity: integer (nullable = true)\n",
      " |-- InvoiceDate: timestamp (nullable = true)\n",
      " |-- UnitPrice: double (nullable = true)\n",
      " |-- CustomerID: double (nullable = true)\n",
      " |-- Country: string (nullable = true)\n",
      "\n"
     ]
    }
   ],
   "source": [
    "staticDataFrame.printSchema()"
   ]
  },
  {
   "cell_type": "code",
   "execution_count": 34,
   "id": "f1511ca7",
   "metadata": {
    "execution": {
     "iopub.execute_input": "2022-09-02T12:27:46.089736Z",
     "iopub.status.busy": "2022-09-02T12:27:46.089138Z",
     "iopub.status.idle": "2022-09-02T12:27:46.180424Z",
     "shell.execute_reply": "2022-09-02T12:27:46.179084Z"
    },
    "papermill": {
     "duration": 0.147072,
     "end_time": "2022-09-02T12:27:46.184528",
     "exception": false,
     "start_time": "2022-09-02T12:27:46.037456",
     "status": "completed"
    },
    "tags": []
   },
   "outputs": [],
   "source": [
    "# in Python\n",
    "from pyspark.sql.functions import date_format, col\n",
    "preppedDataFrame = staticDataFrame\\\n",
    ".na.fill(0)\\\n",
    ".withColumn(\"day_of_week\", date_format(col(\"InvoiceDate\"), \"EEEE\"))\\\n",
    ".coalesce(5)"
   ]
  },
  {
   "cell_type": "code",
   "execution_count": 35,
   "id": "0ad82d59",
   "metadata": {
    "execution": {
     "iopub.execute_input": "2022-09-02T12:27:46.291683Z",
     "iopub.status.busy": "2022-09-02T12:27:46.291186Z",
     "iopub.status.idle": "2022-09-02T12:27:46.351980Z",
     "shell.execute_reply": "2022-09-02T12:27:46.350791Z"
    },
    "papermill": {
     "duration": 0.113814,
     "end_time": "2022-09-02T12:27:46.356744",
     "exception": false,
     "start_time": "2022-09-02T12:27:46.242930",
     "status": "completed"
    },
    "tags": []
   },
   "outputs": [
    {
     "name": "stderr",
     "output_type": "stream",
     "text": [
      "[Stage 29:===============>                                       (88 + 4) / 305]\r"
     ]
    }
   ],
   "source": [
    "# in Python\n",
    "trainDataFrame = preppedDataFrame\\\n",
    ".where(\"InvoiceDate < '2011-07-01'\")\n",
    "testDataFrame = preppedDataFrame\\\n",
    ".where(\"InvoiceDate >= '2011-07-01'\")"
   ]
  },
  {
   "cell_type": "code",
   "execution_count": 36,
   "id": "93fc8659",
   "metadata": {
    "execution": {
     "iopub.execute_input": "2022-09-02T12:27:46.534967Z",
     "iopub.status.busy": "2022-09-02T12:27:46.534192Z",
     "iopub.status.idle": "2022-09-02T12:27:50.824812Z",
     "shell.execute_reply": "2022-09-02T12:27:50.823426Z"
    },
    "papermill": {
     "duration": 4.366348,
     "end_time": "2022-09-02T12:27:50.828857",
     "exception": false,
     "start_time": "2022-09-02T12:27:46.462509",
     "status": "completed"
    },
    "tags": []
   },
   "outputs": [
    {
     "name": "stderr",
     "output_type": "stream",
     "text": [
      "                                                                                \r"
     ]
    },
    {
     "name": "stdout",
     "output_type": "stream",
     "text": [
      "22/09/02 12:27:47 WARN FileStreamSource: Listed 305 file(s) in 2140 ms\n"
     ]
    },
    {
     "name": "stderr",
     "output_type": "stream",
     "text": [
      "                                                                                \r"
     ]
    },
    {
     "data": {
      "text/plain": [
       "245903"
      ]
     },
     "execution_count": 36,
     "metadata": {},
     "output_type": "execute_result"
    }
   ],
   "source": [
    "trainDataFrame.count()"
   ]
  },
  {
   "cell_type": "code",
   "execution_count": 37,
   "id": "bfba8027",
   "metadata": {
    "execution": {
     "iopub.execute_input": "2022-09-02T12:27:50.931042Z",
     "iopub.status.busy": "2022-09-02T12:27:50.930373Z",
     "iopub.status.idle": "2022-09-02T12:27:53.606671Z",
     "shell.execute_reply": "2022-09-02T12:27:53.605244Z"
    },
    "papermill": {
     "duration": 2.729758,
     "end_time": "2022-09-02T12:27:53.610743",
     "exception": false,
     "start_time": "2022-09-02T12:27:50.880985",
     "status": "completed"
    },
    "tags": []
   },
   "outputs": [
    {
     "name": "stderr",
     "output_type": "stream",
     "text": [
      "                                                                                \r"
     ]
    },
    {
     "data": {
      "text/plain": [
       "296006"
      ]
     },
     "execution_count": 37,
     "metadata": {},
     "output_type": "execute_result"
    }
   ],
   "source": [
    "testDataFrame.count()"
   ]
  },
  {
   "cell_type": "code",
   "execution_count": 38,
   "id": "93fa9150",
   "metadata": {
    "execution": {
     "iopub.execute_input": "2022-09-02T12:27:53.732492Z",
     "iopub.status.busy": "2022-09-02T12:27:53.731889Z",
     "iopub.status.idle": "2022-09-02T12:27:54.112547Z",
     "shell.execute_reply": "2022-09-02T12:27:54.111255Z"
    },
    "papermill": {
     "duration": 0.447553,
     "end_time": "2022-09-02T12:27:54.116525",
     "exception": false,
     "start_time": "2022-09-02T12:27:53.668972",
     "status": "completed"
    },
    "tags": []
   },
   "outputs": [],
   "source": [
    "# in Python\n",
    "from pyspark.ml.feature import StringIndexer\n",
    "indexer = StringIndexer()\\\n",
    ".setInputCol(\"day_of_week\")\\\n",
    ".setOutputCol(\"day_of_week_index\")"
   ]
  },
  {
   "cell_type": "code",
   "execution_count": 39,
   "id": "ccc932c5",
   "metadata": {
    "execution": {
     "iopub.execute_input": "2022-09-02T12:27:54.231669Z",
     "iopub.status.busy": "2022-09-02T12:27:54.231074Z",
     "iopub.status.idle": "2022-09-02T12:27:54.871917Z",
     "shell.execute_reply": "2022-09-02T12:27:54.870349Z"
    },
    "papermill": {
     "duration": 0.696588,
     "end_time": "2022-09-02T12:27:54.876717",
     "exception": false,
     "start_time": "2022-09-02T12:27:54.180129",
     "status": "completed"
    },
    "tags": []
   },
   "outputs": [
    {
     "name": "stdout",
     "output_type": "stream",
     "text": [
      "+---------+---------+--------------------+--------+-------------------+---------+----------+--------------+-----------+\n",
      "|InvoiceNo|StockCode|         Description|Quantity|        InvoiceDate|UnitPrice|CustomerID|       Country|day_of_week|\n",
      "+---------+---------+--------------------+--------+-------------------+---------+----------+--------------+-----------+\n",
      "|   580538|    23084|  RABBIT NIGHT LIGHT|      48|2011-12-05 08:38:00|     1.79|   14075.0|United Kingdom|     Monday|\n",
      "|   580538|    23077| DOUGHNUT LIP GLOSS |      20|2011-12-05 08:38:00|     1.25|   14075.0|United Kingdom|     Monday|\n",
      "|   580538|    22906|12 MESSAGE CARDS ...|      24|2011-12-05 08:38:00|     1.65|   14075.0|United Kingdom|     Monday|\n",
      "|   580538|    21914|BLUE HARMONICA IN...|      24|2011-12-05 08:38:00|     1.25|   14075.0|United Kingdom|     Monday|\n",
      "|   580538|    22467|   GUMBALL COAT RACK|       6|2011-12-05 08:38:00|     2.55|   14075.0|United Kingdom|     Monday|\n",
      "|   580538|    21544|SKULLS  WATER TRA...|      48|2011-12-05 08:38:00|     0.85|   14075.0|United Kingdom|     Monday|\n",
      "|   580538|    23126|FELTCRAFT GIRL AM...|       8|2011-12-05 08:38:00|     4.95|   14075.0|United Kingdom|     Monday|\n",
      "|   580538|    21833|CAMOUFLAGE LED TORCH|      24|2011-12-05 08:38:00|     1.69|   14075.0|United Kingdom|     Monday|\n",
      "|   580539|    21479|WHITE SKULL HOT W...|       4|2011-12-05 08:39:00|     4.25|   18180.0|United Kingdom|     Monday|\n",
      "|   580539|   84030E|ENGLISH ROSE HOT ...|       4|2011-12-05 08:39:00|     4.25|   18180.0|United Kingdom|     Monday|\n",
      "|   580539|    23355|HOT WATER BOTTLE ...|       4|2011-12-05 08:39:00|     4.95|   18180.0|United Kingdom|     Monday|\n",
      "|   580539|    22111|SCOTTIE DOG HOT W...|       3|2011-12-05 08:39:00|     4.95|   18180.0|United Kingdom|     Monday|\n",
      "|   580539|    21115|ROSE CARAVAN DOOR...|       8|2011-12-05 08:39:00|     1.95|   18180.0|United Kingdom|     Monday|\n",
      "|   580539|    21411|GINGHAM HEART  DO...|       8|2011-12-05 08:39:00|     1.95|   18180.0|United Kingdom|     Monday|\n",
      "|   580539|    23235|STORAGE TIN VINTA...|      12|2011-12-05 08:39:00|     1.25|   18180.0|United Kingdom|     Monday|\n",
      "|   580539|    23239|SET OF 4 KNICK KN...|       6|2011-12-05 08:39:00|     1.65|   18180.0|United Kingdom|     Monday|\n",
      "|   580539|    22197|      POPCORN HOLDER|      36|2011-12-05 08:39:00|     0.85|   18180.0|United Kingdom|     Monday|\n",
      "|   580539|    22693|GROW A FLYTRAP OR...|      24|2011-12-05 08:39:00|     1.25|   18180.0|United Kingdom|     Monday|\n",
      "|   580539|    22372|AIRLINE BAG VINTA...|       4|2011-12-05 08:39:00|     4.25|   18180.0|United Kingdom|     Monday|\n",
      "|   580539|    22375|AIRLINE BAG VINTA...|       4|2011-12-05 08:39:00|     4.25|   18180.0|United Kingdom|     Monday|\n",
      "+---------+---------+--------------------+--------+-------------------+---------+----------+--------------+-----------+\n",
      "only showing top 20 rows\n",
      "\n"
     ]
    }
   ],
   "source": [
    "testDataFrame.show()"
   ]
  },
  {
   "cell_type": "code",
   "execution_count": 40,
   "id": "2ff72f56",
   "metadata": {
    "execution": {
     "iopub.execute_input": "2022-09-02T12:27:55.029143Z",
     "iopub.status.busy": "2022-09-02T12:27:55.028586Z",
     "iopub.status.idle": "2022-09-02T12:27:55.037816Z",
     "shell.execute_reply": "2022-09-02T12:27:55.036536Z"
    },
    "papermill": {
     "duration": 0.067415,
     "end_time": "2022-09-02T12:27:55.041981",
     "exception": false,
     "start_time": "2022-09-02T12:27:54.974566",
     "status": "completed"
    },
    "tags": []
   },
   "outputs": [
    {
     "data": {
      "text/plain": [
       "StringIndexer_83c297de880f"
      ]
     },
     "execution_count": 40,
     "metadata": {},
     "output_type": "execute_result"
    }
   ],
   "source": [
    "indexer"
   ]
  },
  {
   "cell_type": "code",
   "execution_count": 41,
   "id": "7238136b",
   "metadata": {
    "execution": {
     "iopub.execute_input": "2022-09-02T12:27:55.150769Z",
     "iopub.status.busy": "2022-09-02T12:27:55.150181Z",
     "iopub.status.idle": "2022-09-02T12:27:55.170255Z",
     "shell.execute_reply": "2022-09-02T12:27:55.168893Z"
    },
    "papermill": {
     "duration": 0.081627,
     "end_time": "2022-09-02T12:27:55.173846",
     "exception": false,
     "start_time": "2022-09-02T12:27:55.092219",
     "status": "completed"
    },
    "tags": []
   },
   "outputs": [],
   "source": [
    "# in Python\n",
    "from pyspark.ml.feature import OneHotEncoder\n",
    "encoder = OneHotEncoder()\\\n",
    ".setInputCol(\"day_of_week_index\")\\\n",
    ".setOutputCol(\"day_of_week_encoded\")"
   ]
  },
  {
   "cell_type": "code",
   "execution_count": 42,
   "id": "66f9ad1c",
   "metadata": {
    "execution": {
     "iopub.execute_input": "2022-09-02T12:27:55.282177Z",
     "iopub.status.busy": "2022-09-02T12:27:55.281589Z",
     "iopub.status.idle": "2022-09-02T12:27:55.303458Z",
     "shell.execute_reply": "2022-09-02T12:27:55.302073Z"
    },
    "papermill": {
     "duration": 0.075965,
     "end_time": "2022-09-02T12:27:55.307430",
     "exception": false,
     "start_time": "2022-09-02T12:27:55.231465",
     "status": "completed"
    },
    "tags": []
   },
   "outputs": [],
   "source": [
    "# in Python\n",
    "from pyspark.ml.feature import VectorAssembler\n",
    "vectorAssembler = VectorAssembler()\\\n",
    ".setInputCols([\"UnitPrice\", \"Quantity\", \"day_of_week_encoded\"])\\\n",
    ".setOutputCol(\"features\")"
   ]
  },
  {
   "cell_type": "code",
   "execution_count": 43,
   "id": "a93e5e3f",
   "metadata": {
    "execution": {
     "iopub.execute_input": "2022-09-02T12:27:55.417602Z",
     "iopub.status.busy": "2022-09-02T12:27:55.417063Z",
     "iopub.status.idle": "2022-09-02T12:27:55.422820Z",
     "shell.execute_reply": "2022-09-02T12:27:55.421652Z"
    },
    "papermill": {
     "duration": 0.05962,
     "end_time": "2022-09-02T12:27:55.425803",
     "exception": false,
     "start_time": "2022-09-02T12:27:55.366183",
     "status": "completed"
    },
    "tags": []
   },
   "outputs": [],
   "source": [
    "# Next, we’ll set this up\n",
    "# into a pipeline so that any future data we need to transform can go through the exact same process\n",
    "\n",
    "# in Python\n",
    "from pyspark.ml import Pipeline\n",
    "transformationPipeline = Pipeline()\\\n",
    ".setStages([indexer, encoder, vectorAssembler])"
   ]
  },
  {
   "cell_type": "code",
   "execution_count": 44,
   "id": "17b40842",
   "metadata": {
    "execution": {
     "iopub.execute_input": "2022-09-02T12:27:55.519348Z",
     "iopub.status.busy": "2022-09-02T12:27:55.518789Z",
     "iopub.status.idle": "2022-09-02T12:27:59.710023Z",
     "shell.execute_reply": "2022-09-02T12:27:59.708563Z"
    },
    "papermill": {
     "duration": 4.247575,
     "end_time": "2022-09-02T12:27:59.713766",
     "exception": false,
     "start_time": "2022-09-02T12:27:55.466191",
     "status": "completed"
    },
    "tags": []
   },
   "outputs": [
    {
     "name": "stderr",
     "output_type": "stream",
     "text": [
      "                                                                                \r"
     ]
    }
   ],
   "source": [
    "# in Python\n",
    "fittedPipeline = transformationPipeline.fit(trainDataFrame)"
   ]
  },
  {
   "cell_type": "code",
   "execution_count": 45,
   "id": "366b379f",
   "metadata": {
    "execution": {
     "iopub.execute_input": "2022-09-02T12:27:59.817165Z",
     "iopub.status.busy": "2022-09-02T12:27:59.816173Z",
     "iopub.status.idle": "2022-09-02T12:28:00.023560Z",
     "shell.execute_reply": "2022-09-02T12:28:00.021856Z"
    },
    "papermill": {
     "duration": 0.271497,
     "end_time": "2022-09-02T12:28:00.027466",
     "exception": false,
     "start_time": "2022-09-02T12:27:59.755969",
     "status": "completed"
    },
    "tags": []
   },
   "outputs": [],
   "source": [
    "# in Python\n",
    "transformedTraining = fittedPipeline.transform(trainDataFrame)"
   ]
  },
  {
   "cell_type": "code",
   "execution_count": 46,
   "id": "27da0050",
   "metadata": {
    "execution": {
     "iopub.execute_input": "2022-09-02T12:28:00.133148Z",
     "iopub.status.busy": "2022-09-02T12:28:00.132569Z",
     "iopub.status.idle": "2022-09-02T12:28:00.219181Z",
     "shell.execute_reply": "2022-09-02T12:28:00.217650Z"
    },
    "papermill": {
     "duration": 0.141259,
     "end_time": "2022-09-02T12:28:00.223038",
     "exception": false,
     "start_time": "2022-09-02T12:28:00.081779",
     "status": "completed"
    },
    "tags": []
   },
   "outputs": [
    {
     "data": {
      "text/plain": [
       "DataFrame[InvoiceNo: string, StockCode: string, Description: string, Quantity: int, InvoiceDate: timestamp, UnitPrice: double, CustomerID: double, Country: string, day_of_week: string, day_of_week_index: double, day_of_week_encoded: vector, features: vector]"
      ]
     },
     "execution_count": 46,
     "metadata": {},
     "output_type": "execute_result"
    }
   ],
   "source": [
    "transformedTraining.cache()"
   ]
  },
  {
   "cell_type": "code",
   "execution_count": 47,
   "id": "efeecab4",
   "metadata": {
    "execution": {
     "iopub.execute_input": "2022-09-02T12:28:00.324590Z",
     "iopub.status.busy": "2022-09-02T12:28:00.323829Z",
     "iopub.status.idle": "2022-09-02T12:28:00.358380Z",
     "shell.execute_reply": "2022-09-02T12:28:00.357097Z"
    },
    "papermill": {
     "duration": 0.098105,
     "end_time": "2022-09-02T12:28:00.371567",
     "exception": false,
     "start_time": "2022-09-02T12:28:00.273462",
     "status": "completed"
    },
    "tags": []
   },
   "outputs": [],
   "source": [
    "# in Python\n",
    "from pyspark.ml.clustering import KMeans\n",
    "kmeans = KMeans()\\\n",
    ".setK(20)\\\n",
    ".setSeed(1)"
   ]
  },
  {
   "cell_type": "code",
   "execution_count": 48,
   "id": "a7666cec",
   "metadata": {
    "execution": {
     "iopub.execute_input": "2022-09-02T12:28:00.564220Z",
     "iopub.status.busy": "2022-09-02T12:28:00.563640Z",
     "iopub.status.idle": "2022-09-02T12:28:15.158122Z",
     "shell.execute_reply": "2022-09-02T12:28:15.156872Z"
    },
    "papermill": {
     "duration": 14.717896,
     "end_time": "2022-09-02T12:28:15.162001",
     "exception": false,
     "start_time": "2022-09-02T12:28:00.444105",
     "status": "completed"
    },
    "tags": []
   },
   "outputs": [
    {
     "name": "stderr",
     "output_type": "stream",
     "text": [
      "                                                                                \r"
     ]
    }
   ],
   "source": [
    "# in Python\n",
    "kmModel = kmeans.fit(transformedTraining)"
   ]
  },
  {
   "cell_type": "code",
   "execution_count": null,
   "id": "756e9b1c",
   "metadata": {
    "papermill": {
     "duration": 0.051342,
     "end_time": "2022-09-02T12:28:15.267918",
     "exception": false,
     "start_time": "2022-09-02T12:28:15.216576",
     "status": "completed"
    },
    "tags": []
   },
   "outputs": [],
   "source": []
  }
 ],
 "metadata": {
  "kernelspec": {
   "display_name": "Python 3",
   "language": "python",
   "name": "python3"
  },
  "language_info": {
   "codemirror_mode": {
    "name": "ipython",
    "version": 3
   },
   "file_extension": ".py",
   "mimetype": "text/x-python",
   "name": "python",
   "nbconvert_exporter": "python",
   "pygments_lexer": "ipython3",
   "version": "3.7.12"
  },
  "papermill": {
   "default_parameters": {},
   "duration": 136.960754,
   "end_time": "2022-09-02T12:28:17.950836",
   "environment_variables": {},
   "exception": null,
   "input_path": "__notebook__.ipynb",
   "output_path": "__notebook__.ipynb",
   "parameters": {},
   "start_time": "2022-09-02T12:26:00.990082",
   "version": "2.3.4"
  }
 },
 "nbformat": 4,
 "nbformat_minor": 5
}
